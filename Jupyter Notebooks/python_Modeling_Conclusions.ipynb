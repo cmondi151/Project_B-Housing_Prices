{
 "cells": [
  {
   "cell_type": "markdown",
   "metadata": {},
   "source": [
    "# Project 2: Kaggle Competition - Ames, Iowa Housing Prices"
   ]
  },
  {
   "cell_type": "markdown",
   "metadata": {},
   "source": [
    "## NoteBook Contents\n",
    "- Part 1 - Data Cleansing, EDA, and Pre-Proccessing\n",
    "- Part 2 - Modeling, Testing, and Conclusion"
   ]
  },
  {
   "cell_type": "markdown",
   "metadata": {},
   "source": [
    "----------------------------------------"
   ]
  },
  {
   "cell_type": "markdown",
   "metadata": {},
   "source": [
    "### Part 2 - Modeling, Testing, and Conclusion"
   ]
  },
  {
   "cell_type": "code",
   "execution_count": 2,
   "metadata": {},
   "outputs": [],
   "source": [
    "#libraries\n",
    "\n",
    "import requests\n",
    "import re\n",
    "import sympy as sy\n",
    "import statsmodels.api as sm\n",
    "import sklearn.metrics as metrics\n",
    "import sklearn.linear_model as linear_model\n",
    "import seaborn as sns\n",
    "import scipy.stats as stats\n",
    "import statsmodels.api as sm\n",
    "import random as rand\n",
    "import pandas as pd\n",
    "import pandas_datareader as pdr\n",
    "import plotly\n",
    "import plotly.express as px\n",
    "import os\n",
    "import numpy as np\n",
    "import matplotlib.pyplot as plt\n",
    "import ipywidgets as widgets\n",
    "import glob\n",
    "import folium\n",
    "\n",
    "from statsmodels.stats.weightstats import DescrStatsW\n",
    "from statsmodels.stats.weightstats import CompareMeans\n",
    "from statsmodels.discrete.discrete_model import Logit\n",
    "from scipy.stats import ttest_ind\n",
    "from alpha_vantage.timeseries import TimeSeries\n",
    "from random import sample\n",
    "from pathlib import Path\n",
    "from pandas import Series\n",
    "from pandas import DataFrame\n",
    "from mpl_toolkits.mplot3d import Axes3D\n",
    "from math import pi\n",
    "from nltk.tokenize import sent_tokenize\n",
    "from nltk.tokenize import word_tokenize\n",
    "from nltk.tokenize import RegexpTokenizer\n",
    "from nltk.stem import WordNetLemmatizer\n",
    "from nltk.stem import PorterStemmer\n",
    "from ipywidgets import interact\n",
    "from IPython.display import display\n",
    "from category_encoders import OneHotEncoder as OHE\n",
    "from bs4 import BeautifulSoup\n",
    "from textblob import TextBlob\n",
    "from vaderSentiment.vaderSentiment import SentimentIntensityAnalyzer\n",
    "\n",
    "from sklearn.preprocessing import StandardScaler\n",
    "from sklearn.preprocessing import PolynomialFeatures\n",
    "from sklearn.preprocessing import OneHotEncoder\n",
    "from sklearn.pipeline import make_pipeline\n",
    "from sklearn.neighbors import KNeighborsClassifier\n",
    "from sklearn.naive_bayes import MultinomialNB\n",
    "#from sklearn.model_selection import GridSearch\n",
    "from sklearn.model_selection import GridSearchCV\n",
    "from sklearn.model_selection import RandomizedSearchCV\n",
    "from sklearn.model_selection import train_test_split\n",
    "from sklearn.model_selection import cross_val_score\n",
    "from sklearn.metrics import r2_score\n",
    "from sklearn.metrics import mean_squared_error\n",
    "from sklearn.metrics import mean_absolute_error\n",
    "from sklearn.metrics import confusion_matrix\n",
    "from sklearn.metrics import plot_confusion_matrix\n",
    "from sklearn.metrics import plot_roc_curve\n",
    "from sklearn.linear_model import RidgeCV\n",
    "from sklearn.linear_model import Ridge\n",
    "from sklearn.linear_model import LogisticRegression\n",
    "from sklearn.linear_model import LinearRegression\n",
    "from sklearn.linear_model import LassoCV\n",
    "from sklearn.linear_model import Lasso\n",
    "from sklearn.linear_model import ElasticNetCV\n",
    "from sklearn.linear_model import ElasticNet\n",
    "from sklearn.linear_model import TweedieRegressor\n",
    "from sklearn.impute import SimpleImputer\n",
    "from sklearn.feature_selection import RFE\n",
    "from sklearn.feature_selection import SelectKBest\n",
    "from sklearn.feature_selection import f_regression\n",
    "from sklearn.feature_extraction.text import CountVectorizer\n",
    "from sklearn.feature_extraction.text import TfidfVectorizer\n",
    "from sklearn.compose import make_column_transformer\n",
    "from sklearn.compose import make_column_selector\n",
    "from sklearn.dummy import DummyClassifier\n",
    "\n",
    "pd.options.display.max_rows = None\n",
    "pd.options.display.max_columns = None\n",
    "\n",
    "#import warnings\n",
    "#warnings.filterwarnings('ignore')"
   ]
  },
  {
   "cell_type": "code",
   "execution_count": 3,
   "metadata": {},
   "outputs": [],
   "source": [
    "#testing & model data import\n",
    "df_test = pd.read_csv('../datasets/test.csv', skipinitialspace=True)\n",
    "df_model = pd.read_csv('../final_colinmondi/train_clean_v2.csv', skipinitialspace=True)"
   ]
  },
  {
   "cell_type": "code",
   "execution_count": 4,
   "metadata": {},
   "outputs": [],
   "source": [
    "#set X & y\n",
    "X = df_model.drop('saleprice', axis = 1)\n",
    "y = df_model['saleprice']"
   ]
  },
  {
   "cell_type": "code",
   "execution_count": 5,
   "metadata": {},
   "outputs": [],
   "source": [
    "#train-test-split\n",
    "X_train, X_test, y_train, y_test = train_test_split(X, y, test_size = 0.2, random_state = 123)"
   ]
  },
  {
   "cell_type": "markdown",
   "metadata": {},
   "source": [
    "#### Model 1 - simple linear regression"
   ]
  },
  {
   "cell_type": "code",
   "execution_count": 6,
   "metadata": {},
   "outputs": [
    {
     "data": {
      "text/plain": [
       "LinearRegression()"
      ]
     },
     "execution_count": 6,
     "metadata": {},
     "output_type": "execute_result"
    }
   ],
   "source": [
    "#initiate & fit\n",
    "lr = LinearRegression()\n",
    "lr.fit(X_train, y_train)"
   ]
  },
  {
   "cell_type": "code",
   "execution_count": 7,
   "metadata": {},
   "outputs": [
    {
     "data": {
      "text/plain": [
       "0.9334014260728074"
      ]
     },
     "execution_count": 7,
     "metadata": {},
     "output_type": "execute_result"
    }
   ],
   "source": [
    "#pull scores\n",
    "lr.score(X_train, y_train)"
   ]
  },
  {
   "cell_type": "code",
   "execution_count": 8,
   "metadata": {},
   "outputs": [
    {
     "data": {
      "text/plain": [
       "-2.198455845029543e+17"
      ]
     },
     "execution_count": 8,
     "metadata": {},
     "output_type": "execute_result"
    }
   ],
   "source": [
    "lr.score(X_test, y_test)"
   ]
  },
  {
   "cell_type": "code",
   "execution_count": 9,
   "metadata": {},
   "outputs": [
    {
     "data": {
      "text/plain": [
       "-2.198455845029543e+17"
      ]
     },
     "execution_count": 9,
     "metadata": {},
     "output_type": "execute_result"
    }
   ],
   "source": [
    "#confirm R2\n",
    "y_preds = lr.predict(X_test)\n",
    "r2_score(y_test, y_preds)"
   ]
  },
  {
   "cell_type": "code",
   "execution_count": 10,
   "metadata": {},
   "outputs": [
    {
     "data": {
      "text/plain": [
       "31055239949374.926"
      ]
     },
     "execution_count": 10,
     "metadata": {},
     "output_type": "execute_result"
    }
   ],
   "source": [
    "#RMSE\n",
    "mean_squared_error(y_test,y_preds,squared=False)"
   ]
  },
  {
   "cell_type": "markdown",
   "metadata": {},
   "source": [
    "For the testing data, R2 is a significantly worse in comparison to our training data. In addition to that, there's very high RSME value (also bad).\n",
    "\n",
    "Before we continue testing models, lets apply all the modifications made in the training data (from Part 1) to the test data as well where applicable."
   ]
  },
  {
   "cell_type": "code",
   "execution_count": 11,
   "metadata": {},
   "outputs": [
    {
     "name": "stderr",
     "output_type": "stream",
     "text": [
      "<ipython-input-11-1981dd7bdc9a>:182: SettingWithCopyWarning: \n",
      "A value is trying to be set on a copy of a slice from a DataFrame.\n",
      "Try using .loc[row_indexer,col_indexer] = value instead\n",
      "\n",
      "See the caveats in the documentation: https://pandas.pydata.org/pandas-docs/stable/user_guide/indexing.html#returning-a-view-versus-a-copy\n",
      "  X['ms_subclass'] = df_test['ms_subclass'].astype(str)\n"
     ]
    }
   ],
   "source": [
    "df_test.columns = df_test.columns.str.lower().str.replace(' ', '_')\n",
    "#################\n",
    "df_test = df_test.drop(columns = ['pid', 'alley', 'fireplace_qu', 'pool_qc', 'fence', 'misc_feature'], axis = 1)\n",
    "#################\n",
    "df_test['bsmtfin_sf_1'] = df_test['bsmtfin_sf_1'].fillna(df_test.groupby('neighborhood')['bsmtfin_sf_1'] \\\n",
    "                                                           .transform('mean'))\n",
    "df_test['bsmtfin_sf_2'] = df_test['bsmtfin_sf_2'].fillna(df_test.groupby('neighborhood')['bsmtfin_sf_2'] \\\n",
    "                                                           .transform('mean'))\n",
    "df_test['bsmt_unf_sf'] = df_test['bsmt_unf_sf'].fillna(df_test.groupby('neighborhood')['bsmt_unf_sf'] \\\n",
    "                                                         .transform('mean'))\n",
    "df_test['garage_area'] = df_test['garage_area'].fillna(df_test.groupby('neighborhood')['garage_area'] \\\n",
    "                                                         .transform('mean'))\n",
    "df_test['bsmt_full_bath'] = df_test['bsmt_full_bath'].fillna(df_test.groupby('neighborhood') \\\n",
    "                                                               ['bsmt_full_bath'].transform('mean'))\n",
    "df_test['bsmt_half_bath'] = df_test['bsmt_half_bath'].fillna(df_test.groupby('neighborhood') \\\n",
    "                                                               ['bsmt_half_bath'].transform('mean'))\n",
    "df_test['total_bsmt_sf'] = df_test['total_bsmt_sf'].fillna(df_test.groupby('neighborhood') \\\n",
    "                                                             ['total_bsmt_sf'].transform('mean'))\n",
    "df_test['garage_yr_blt'] = df_test['garage_yr_blt'].fillna(df_test.groupby('neighborhood') \\\n",
    "                                                             ['garage_yr_blt'].transform('mean'))\n",
    "df_test['lot_frontage'] = df_test['lot_frontage'].fillna(0)\n",
    "df_test['mas_vnr_area'] = df_test['mas_vnr_area'].fillna(0)\n",
    "df_test['garage_cars'] = df_test['garage_cars'].fillna(0)\n",
    "df_test['garage_area'] = df_test['garage_area'].fillna(0)\n",
    "df_test['mas_vnr_type'] = df_test['mas_vnr_type'].fillna('None')\n",
    "df_test['bsmt_qual'] = df_test['bsmt_qual'].fillna('TA')\n",
    "df_test['bsmt_cond'] = df_test['bsmt_cond'].fillna('TA')\n",
    "df_test['bsmt_exposure'] = df_test['bsmt_exposure'].fillna('No')\n",
    "df_test['bsmtfin_type_1'] = df_test['bsmtfin_type_1'].fillna('GLQ')\n",
    "df_test['bsmtfin_type_2'] = df_test['bsmtfin_type_2'].fillna('Unf')\n",
    "df_test['garage_finish'] = df_test['garage_cars'].fillna('Unf')\n",
    "df_test['garage_qual'] = df_test['garage_qual'].fillna('TA')\n",
    "df_test['garage_cond'] = df_test['garage_cond'].fillna('TA')\n",
    "df_test['garage_type'] = df_test['garage_type'].fillna('Attchd')\n",
    "#################\n",
    "df_test['lot_shape'] = [0 if df_test['lot_shape'][i] == 'IR3' else 1 if df_test['lot_shape'][i] == 'IR2'\n",
    "                        else 2 if df_test['lot_shape'][i] == 'IR1' else 3 for i in df_test.index]\n",
    "\n",
    "df_test['utilities'] = [0 if df_test['utilities'][i] == 'ELO' else 1 if df_test['utilities'][i] == 'NoSeWa'\n",
    "                        else 2 if df_test['utilities'][i] == 'NoSewr' else 3 for i in df_test.index]\n",
    "\n",
    "df_test['land_slope'] = [0 if df_test['land_slope'][i] == 'Sev' else 1 if df_test['land_slope'][i] == 'Mod'\n",
    "                        else 2 for i in df_test.index]\n",
    "\n",
    "df_test['exter_qual'] = [0 if df_test['exter_qual'][i] == 'Po' else 1 if df_test['exter_qual'][i] == 'Fa'\n",
    "                        else 2 if df_test['exter_qual'][i] == 'TA' else 3 if df_test['exter_qual'][i] == 'Gd'\n",
    "                        else 4 for i in df_test.index]\n",
    "\n",
    "df_test['exter_cond'] = [0 if df_test['exter_cond'][i] == 'Po' else 1 if df_test['exter_cond'][i] == 'Fa'\n",
    "                        else 2 if df_test['exter_qual'][i] == 'TA' else 3 if df_test['exter_cond'][i] == 'Gd'\n",
    "                        else 4 for i in df_test.index]\n",
    "\n",
    "df_test['bsmt_qual'] = [0 if df_test['bsmt_qual'][i] == np.nan else 1 if df_test['bsmt_qual'][i] == 'Po'\n",
    "                        else 2 if df_test['exter_cond'][i] == 'Fa' else 3 if df_test['exter_cond'][i] == 'TA'\n",
    "                        else 4 if df_test['exter_cond'][i] == 'Gd' else 5 for i in df_test.index]\n",
    "\n",
    "df_test['bsmt_cond'] = [0 if df_test['bsmt_cond'][i] == np.nan else 1 if df_test['bsmt_cond'][i] == 'Po'\n",
    "                        else 2 if df_test['bsmt_cond'][i] == 'Fa' else 3 if df_test['bsmt_cond'][i] == 'TA'\n",
    "                        else 4 if df_test['bsmt_cond'][i] == 'Gd' else 5 for i in df_test.index]\n",
    "\n",
    "df_test['bsmt_exposure'] = [0 if df_test['bsmt_exposure'][i] == np.nan else 1 if df_test['bsmt_exposure']\n",
    "                            [i] == 'No' else 2 if df_test['bsmt_exposure'][i] == 'Mn' else 3 if df_test\n",
    "                            ['bsmt_exposure'][i] == 'Av' else 4 for i in df_test.index]\n",
    "\n",
    "df_test['bsmtfin_type_1'] = [0 if df_test['bsmtfin_type_1'][i] == np.nan else 1 if df_test\n",
    "                             ['bsmtfin_type_1'][i] == 'Unf' else 2 if df_test['bsmtfin_type_1']\n",
    "                             [i] == 'LwQ' else 3 if df_test['bsmtfin_type_1'][i] == 'Rec' else \n",
    "                             4 if df_test['bsmtfin_type_1'][i] == 'BLQ' else 5 if df_test\n",
    "                             ['bsmtfin_type_1'][i] == 'ALQ' else 6 for i in df_test.index]\n",
    "\n",
    "df_test['bsmtfin_type_2'] = [0 if df_test['bsmtfin_type_2'][i] == np.nan else 1 if df_test\n",
    "                             ['bsmtfin_type_2'][i] == 'Unf' else 2 if df_test['bsmtfin_type_2']\n",
    "                             [i] == 'LwQ' else 3 if df_test['bsmtfin_type_2'][i] == 'Rec' else 4 \n",
    "                             if df_test['bsmtfin_type_2'][i] == 'BLQ' else 5 if df_test\n",
    "                             ['bsmtfin_type_2'][i] == 'ALQ' else 6 for i in df_test.index]\n",
    "\n",
    "df_test['heating_qc'] = [0 if df_test['heating_qc'][i] == 'Po' else 1 if df_test['heating_qc'][i] == 'Fa'\n",
    "                        else 2 if df_test['heating_qc'][i] == 'TA' else 3 if df_test['heating_qc'][i] == 'Gd'\n",
    "                        else 4 for i in df_test.index]\n",
    "\n",
    "df_test['electrical'] = [0 if df_test['electrical'][i] == 'Mix' else 1 if df_test['electrical'][i] == 'FuseP'\n",
    "                        else 2 if df_test['electrical'][i] == 'FuseF' else 3 if df_test['electrical']\n",
    "                         [i] == 'FuseA' else 4 for i in df_test.index]\n",
    "\n",
    "df_test['kitchen_qual'] = [0 if df_test['kitchen_qual'][i] == 'Po' else 1 if df_test['kitchen_qual'][i] == 'Fa'\n",
    "                          else 2 if df_test['kitchen_qual'][i] == 'TA' else 3 if df_test['kitchen_qual'][i] == 'Gd'\n",
    "                          else 4 for i in df_test.index]\n",
    "\n",
    "df_test['functional'] = [0 if df_test['functional'][i] == 'Sal' else 1 if df_test['functional'][i] == 'Sev'\n",
    "                        else 2 if df_test['functional'][i] == 'Maj2' else 3 if df_test['functional'][i] == 'Maj1'\n",
    "                        else 4 if df_test['functional'][i] == 'Mod' else 5 if df_test['functional'][i] == 'Min2'\n",
    "                        else 6 if df_test['functional'][i] == 'Min1' else 7 for i in df_test.index]\n",
    "\n",
    "df_test['garage_finish'] =  [0 if df_test['garage_finish'][i] == np.nan else 1 if df_test\n",
    "                             ['garage_finish'][i] == 'Unf' else 2 if df_test['garage_finish'][i]\n",
    "                             == 'RFn' else 3 for i in df_test.index]\n",
    "\n",
    "df_test['garage_qual'] = [0 if df_test['garage_qual'][i] == np.nan else 1 if df_test['garage_qual'][i] == 'Po'\n",
    "                         else 2 if df_test['garage_qual'][i] == 'Fa' else 3 if df_test['garage_qual'][i] == 'TA'\n",
    "                         else 4 if df_test['garage_qual'][i] == 'Gd' else 5 for i in df_test.index]\n",
    "\n",
    "df_test['garage_cond'] = [0 if df_test['garage_cond'][i] == np.nan else 1 if df_test['garage_cond'][i] == 'Po'\n",
    "                            else 2 if df_test['garage_cond'][i] == 'Fa' else 3 if df_test['garage_cond'][i] == 'TA'\n",
    "                            else 4 if df_test['garage_cond'][i] == 'Gd' else 5 for i in df_test.index]\n",
    "\n",
    "df_test['paved_drive'] = [0 if df_test['paved_drive'][i] == 'N' else 1 if df_test['paved_drive'][i] == 'P'\n",
    "                            else 2 for i in df_test.index]\n",
    "#################\n",
    "df_test['lot_size_class'] = [1 if i > 20000 else 0 for i in df_test['lot_area']]\n",
    "#################\n",
    "df_test['age_class'] = ['Old1' if df_test['year_built'][i] <= 1890 else 'Old2' if df_test['year_built'][i] \n",
    "                        <= 1893 else 'Old3' if df_test['year_built'][i] <= 1935 else 'Old4' if \n",
    "                        df_test['year_built'][i] < 1981 else 'Old5' for i in df_test.index]\n",
    "#################\n",
    "df_test['build_remodel'] = df_test['year_remod/add'] - df_test['year_built']\n",
    "#################\n",
    "features = ['overall_qual'\n",
    "            ,'exter_qual'\n",
    "            ,'gr_liv_area'\n",
    "            ,'1st_flr_sf'\n",
    "            ,'kitchen_qual'\n",
    "            ,'year_built'\n",
    "            ,'garage_area'\n",
    "            ,'year_remod/add'\n",
    "            ,'full_bath'\n",
    "            ,'bsmtfin_sf_1'\n",
    "            ,'mas_vnr_area'\n",
    "            ,'fireplaces'\n",
    "            ,'heating_qc'\n",
    "            ,'lot_area'\n",
    "            ,'wood_deck_sf'\n",
    "            ,'open_porch_sf'\n",
    "            ,'bsmtfin_sf_2'\n",
    "            ,'bsmt_unf_sf'\n",
    "            ,'2nd_flr_sf'\n",
    "            ,'lot_frontage'\n",
    "            ,'overall_cond'\n",
    "            ,'low_qual_fin_sf'\n",
    "            ,'bsmt_full_bath'\n",
    "            ,'bsmt_half_bath'\n",
    "            ,'half_bath'\n",
    "            ,'bedroom_abvgr'\n",
    "            ,'kitchen_abvgr'\n",
    "            ,'enclosed_porch'\n",
    "            ,'3ssn_porch'\n",
    "            ,'screen_porch'\n",
    "            ,'pool_area'\n",
    "            ,'misc_val'\n",
    "            ,'mo_sold'\n",
    "            ,'yr_sold'\n",
    "            ,'lot_shape'\n",
    "            ,'utilities'\n",
    "            ,'land_slope'\n",
    "            ,'exter_cond'\n",
    "            ,'bsmt_qual'\n",
    "            ,'bsmt_cond'\n",
    "            ,'bsmt_exposure'\n",
    "            ,'bsmtfin_type_1'\n",
    "            ,'bsmtfin_type_2'\n",
    "            ,'electrical'\n",
    "            ,'functional'\n",
    "            ,'garage_finish'\n",
    "            ,'garage_qual'\n",
    "            ,'garage_cond'\n",
    "            ,'paved_drive'\n",
    "            ,'build_remodel']\n",
    "\n",
    "X = df_test[features]\n",
    "#################\n",
    "sc = StandardScaler()\n",
    "Z = sc.fit_transform(X)\n",
    "Z = pd.DataFrame(Z, columns = X.columns)\n",
    "#################\n",
    "features_c = [i for i in df_test.columns if df_test[i].dtype == 'object']\n",
    "\n",
    "Z['lot_size_class'] = df_test['lot_size_class']\n",
    "Z['saleprice'] = 0\n",
    "\n",
    "X = df_test[features_c]\n",
    "X['ms_subclass'] = df_test['ms_subclass'].astype(str)\n",
    "\n",
    "X_dummies = pd.get_dummies(data = X, drop_first = True)\n",
    "joined_df = Z.join(X)\n",
    "#################\n",
    "#make sure dataframes have equal number of columns\n",
    "final_train, final_test = df_model.align(joined_df, join = 'inner', axis = 1)\n",
    "#################\n",
    "#add back in blank 'id' column in test DataFrame\n",
    "final_test.insert(0, 'id',df_test['id'])\n",
    "#################\n",
    "final_train.to_csv('../final_colinmondi/final_train.csv', index = False)\n",
    "final_test.to_csv('../final_colinmondi/final_test.csv', index = False)"
   ]
  },
  {
   "cell_type": "code",
   "execution_count": 12,
   "metadata": {},
   "outputs": [],
   "source": [
    "#reset X, y, & train_test_split\n",
    "X = final_train.drop('saleprice', axis = 1)\n",
    "y = final_train['saleprice']\n",
    "\n",
    "X_train, X_test, y_train, y_test = train_test_split(X, y, test_size = 0.2, random_state = 123)"
   ]
  },
  {
   "cell_type": "code",
   "execution_count": 13,
   "metadata": {},
   "outputs": [
    {
     "data": {
      "text/plain": [
       "LinearRegression()"
      ]
     },
     "execution_count": 13,
     "metadata": {},
     "output_type": "execute_result"
    }
   ],
   "source": [
    "#re-do linear regression model\n",
    "\n",
    "#initiate & fit\n",
    "lr_new = LinearRegression()\n",
    "lr_new.fit(X_train, y_train)"
   ]
  },
  {
   "cell_type": "code",
   "execution_count": 14,
   "metadata": {},
   "outputs": [
    {
     "data": {
      "text/plain": [
       "0.8918351671899469"
      ]
     },
     "execution_count": 14,
     "metadata": {},
     "output_type": "execute_result"
    }
   ],
   "source": [
    "#pull scores\n",
    "lr_new.score(X_train, y_train)"
   ]
  },
  {
   "cell_type": "code",
   "execution_count": 15,
   "metadata": {},
   "outputs": [
    {
     "data": {
      "text/plain": [
       "0.8905962021622964"
      ]
     },
     "execution_count": 15,
     "metadata": {},
     "output_type": "execute_result"
    }
   ],
   "source": [
    "lr_new.score(X_test, y_test)"
   ]
  },
  {
   "cell_type": "code",
   "execution_count": 16,
   "metadata": {},
   "outputs": [
    {
     "data": {
      "text/plain": [
       "0.8905962021622964"
      ]
     },
     "execution_count": 16,
     "metadata": {},
     "output_type": "execute_result"
    }
   ],
   "source": [
    "#confirm R2\n",
    "y_preds = lr_new.predict(X_test)\n",
    "r2_score(y_test, y_preds)"
   ]
  },
  {
   "cell_type": "code",
   "execution_count": 17,
   "metadata": {},
   "outputs": [
    {
     "data": {
      "text/plain": [
       "21907.469444565326"
      ]
     },
     "execution_count": 17,
     "metadata": {},
     "output_type": "execute_result"
    }
   ],
   "source": [
    "#RMSE\n",
    "mean_squared_error(y_test,y_preds,squared=False)"
   ]
  },
  {
   "cell_type": "markdown",
   "metadata": {},
   "source": [
    "Looks much better now regarding R2 & RMSE."
   ]
  },
  {
   "cell_type": "markdown",
   "metadata": {},
   "source": [
    "--------------------------------"
   ]
  },
  {
   "cell_type": "markdown",
   "metadata": {},
   "source": [
    "#### Model 2 - ridge"
   ]
  },
  {
   "cell_type": "code",
   "execution_count": 18,
   "metadata": {},
   "outputs": [
    {
     "data": {
      "text/plain": [
       "RidgeCV(alphas=array([1.00000000e+00, 1.26185688e+00, 1.59228279e+00, 2.00923300e+00,\n",
       "       2.53536449e+00, 3.19926714e+00, 4.03701726e+00, 5.09413801e+00,\n",
       "       6.42807312e+00, 8.11130831e+00, 1.02353102e+01, 1.29154967e+01,\n",
       "       1.62975083e+01, 2.05651231e+01, 2.59502421e+01, 3.27454916e+01,\n",
       "       4.13201240e+01, 5.21400829e+01, 6.57933225e+01, 8.30217568e+01,\n",
       "       1.04761575e+02, 1.32194115e+0...\n",
       "       4.75081016e+07, 5.99484250e+07, 7.56463328e+07, 9.54548457e+07,\n",
       "       1.20450354e+08, 1.51991108e+08, 1.91791026e+08, 2.42012826e+08,\n",
       "       3.05385551e+08, 3.85352859e+08, 4.86260158e+08, 6.13590727e+08,\n",
       "       7.74263683e+08, 9.77009957e+08, 1.23284674e+09, 1.55567614e+09,\n",
       "       1.96304065e+09, 2.47707636e+09, 3.12571585e+09, 3.94420606e+09,\n",
       "       4.97702356e+09, 6.28029144e+09, 7.92482898e+09, 1.00000000e+10]))"
      ]
     },
     "execution_count": 18,
     "metadata": {},
     "output_type": "execute_result"
    }
   ],
   "source": [
    "#initiate & fit\n",
    "ridge = RidgeCV(alphas = np.logspace(0, 10, 100), cv = None)\n",
    "ridge.fit(X_train, y_train)\n",
    "\n",
    "#np.logspace(0, 10, 100) applied to model below; generates 100 alpha values from 0 and 10, equally distriubuted"
   ]
  },
  {
   "cell_type": "code",
   "execution_count": 19,
   "metadata": {},
   "outputs": [
    {
     "data": {
      "text/plain": [
       "16.297508346206442"
      ]
     },
     "execution_count": 19,
     "metadata": {},
     "output_type": "execute_result"
    }
   ],
   "source": [
    "#pull alpha & scores\n",
    "ridge.alpha_"
   ]
  },
  {
   "cell_type": "code",
   "execution_count": 20,
   "metadata": {},
   "outputs": [
    {
     "data": {
      "text/plain": [
       "0.891484603244676"
      ]
     },
     "execution_count": 20,
     "metadata": {},
     "output_type": "execute_result"
    }
   ],
   "source": [
    "ridge.score(X_train, y_train)"
   ]
  },
  {
   "cell_type": "code",
   "execution_count": 21,
   "metadata": {},
   "outputs": [
    {
     "data": {
      "text/plain": [
       "0.8913272457849526"
      ]
     },
     "execution_count": 21,
     "metadata": {},
     "output_type": "execute_result"
    }
   ],
   "source": [
    "ridge.score(X_test, y_test)"
   ]
  },
  {
   "cell_type": "code",
   "execution_count": 22,
   "metadata": {},
   "outputs": [
    {
     "data": {
      "text/plain": [
       "0.8913272457849526"
      ]
     },
     "execution_count": 22,
     "metadata": {},
     "output_type": "execute_result"
    }
   ],
   "source": [
    "#confirm R2\n",
    "y_preds = ridge.predict(X_test)\n",
    "r2_score(y_test, y_preds)"
   ]
  },
  {
   "cell_type": "code",
   "execution_count": 23,
   "metadata": {},
   "outputs": [
    {
     "data": {
      "text/plain": [
       "21834.153162309947"
      ]
     },
     "execution_count": 23,
     "metadata": {},
     "output_type": "execute_result"
    }
   ],
   "source": [
    "#RMSE\n",
    "mean_squared_error(y_test,y_preds,squared=False)"
   ]
  },
  {
   "cell_type": "markdown",
   "metadata": {},
   "source": [
    "R2 and RMSE are slightly better when comparing the ridge versus linear regression model."
   ]
  },
  {
   "cell_type": "markdown",
   "metadata": {},
   "source": [
    "--------------------------------"
   ]
  },
  {
   "cell_type": "markdown",
   "metadata": {},
   "source": [
    "#### Model 3 - lasso"
   ]
  },
  {
   "cell_type": "code",
   "execution_count": 24,
   "metadata": {},
   "outputs": [
    {
     "data": {
      "text/plain": [
       "LassoCV(alphas=array([1.00000000e+00, 1.26185688e+00, 1.59228279e+00, 2.00923300e+00,\n",
       "       2.53536449e+00, 3.19926714e+00, 4.03701726e+00, 5.09413801e+00,\n",
       "       6.42807312e+00, 8.11130831e+00, 1.02353102e+01, 1.29154967e+01,\n",
       "       1.62975083e+01, 2.05651231e+01, 2.59502421e+01, 3.27454916e+01,\n",
       "       4.13201240e+01, 5.21400829e+01, 6.57933225e+01, 8.30217568e+01,\n",
       "       1.04761575e+02, 1.32194115e+0...\n",
       "       4.75081016e+07, 5.99484250e+07, 7.56463328e+07, 9.54548457e+07,\n",
       "       1.20450354e+08, 1.51991108e+08, 1.91791026e+08, 2.42012826e+08,\n",
       "       3.05385551e+08, 3.85352859e+08, 4.86260158e+08, 6.13590727e+08,\n",
       "       7.74263683e+08, 9.77009957e+08, 1.23284674e+09, 1.55567614e+09,\n",
       "       1.96304065e+09, 2.47707636e+09, 3.12571585e+09, 3.94420606e+09,\n",
       "       4.97702356e+09, 6.28029144e+09, 7.92482898e+09, 1.00000000e+10]),\n",
       "        max_iter=4000)"
      ]
     },
     "execution_count": 24,
     "metadata": {},
     "output_type": "execute_result"
    }
   ],
   "source": [
    "#initiate & fit\n",
    "lasso = LassoCV(alphas = np.logspace(0, 10, 100), cv = None, max_iter = 4000)\n",
    "lasso.fit(X_train, y_train)"
   ]
  },
  {
   "cell_type": "code",
   "execution_count": 25,
   "metadata": {},
   "outputs": [
    {
     "data": {
      "text/plain": [
       "132.19411484660287"
      ]
     },
     "execution_count": 25,
     "metadata": {},
     "output_type": "execute_result"
    }
   ],
   "source": [
    "#pull alpha & scores\n",
    "lasso.alpha_"
   ]
  },
  {
   "cell_type": "code",
   "execution_count": 26,
   "metadata": {},
   "outputs": [
    {
     "data": {
      "text/plain": [
       "0.8912568127438738"
      ]
     },
     "execution_count": 26,
     "metadata": {},
     "output_type": "execute_result"
    }
   ],
   "source": [
    "lasso.score(X_train, y_train)"
   ]
  },
  {
   "cell_type": "code",
   "execution_count": 27,
   "metadata": {},
   "outputs": [
    {
     "data": {
      "text/plain": [
       "0.892381891022345"
      ]
     },
     "execution_count": 27,
     "metadata": {},
     "output_type": "execute_result"
    }
   ],
   "source": [
    "lasso.score(X_test, y_test)"
   ]
  },
  {
   "cell_type": "code",
   "execution_count": 28,
   "metadata": {},
   "outputs": [
    {
     "data": {
      "text/plain": [
       "0.892381891022345"
      ]
     },
     "execution_count": 28,
     "metadata": {},
     "output_type": "execute_result"
    }
   ],
   "source": [
    "#confirm R2\n",
    "y_preds = lasso.predict(X_test)\n",
    "r2_score(y_test, y_preds)"
   ]
  },
  {
   "cell_type": "code",
   "execution_count": 29,
   "metadata": {},
   "outputs": [
    {
     "data": {
      "text/plain": [
       "21727.94702419875"
      ]
     },
     "execution_count": 29,
     "metadata": {},
     "output_type": "execute_result"
    }
   ],
   "source": [
    "#RMSE\n",
    "mean_squared_error(y_test,y_preds,squared=False)"
   ]
  },
  {
   "cell_type": "markdown",
   "metadata": {},
   "source": [
    "The R2 and RMSE for both lasso and ridge are very similar, too small of a differences in scores to make any conclusions."
   ]
  },
  {
   "cell_type": "markdown",
   "metadata": {},
   "source": [
    "--------------------------------"
   ]
  },
  {
   "cell_type": "markdown",
   "metadata": {},
   "source": [
    "#### Model 4 - elestic net"
   ]
  },
  {
   "cell_type": "code",
   "execution_count": 30,
   "metadata": {},
   "outputs": [
    {
     "data": {
      "text/plain": [
       "ElasticNetCV(alphas=array([1.00000000e+00, 1.26185688e+00, 1.59228279e+00, 2.00923300e+00,\n",
       "       2.53536449e+00, 3.19926714e+00, 4.03701726e+00, 5.09413801e+00,\n",
       "       6.42807312e+00, 8.11130831e+00, 1.02353102e+01, 1.29154967e+01,\n",
       "       1.62975083e+01, 2.05651231e+01, 2.59502421e+01, 3.27454916e+01,\n",
       "       4.13201240e+01, 5.21400829e+01, 6.57933225e+01, 8.30217568e+01,\n",
       "       1.04761575e+02, 1.321941...\n",
       "       4.75081016e+07, 5.99484250e+07, 7.56463328e+07, 9.54548457e+07,\n",
       "       1.20450354e+08, 1.51991108e+08, 1.91791026e+08, 2.42012826e+08,\n",
       "       3.05385551e+08, 3.85352859e+08, 4.86260158e+08, 6.13590727e+08,\n",
       "       7.74263683e+08, 9.77009957e+08, 1.23284674e+09, 1.55567614e+09,\n",
       "       1.96304065e+09, 2.47707636e+09, 3.12571585e+09, 3.94420606e+09,\n",
       "       4.97702356e+09, 6.28029144e+09, 7.92482898e+09, 1.00000000e+10]))"
      ]
     },
     "execution_count": 30,
     "metadata": {},
     "output_type": "execute_result"
    }
   ],
   "source": [
    "#initiate & fit\n",
    "elas = ElasticNetCV(alphas = np.logspace(0, 10, 100), l1_ratio = 0.5, cv = None)\n",
    "elas.fit(X_train, y_train)"
   ]
  },
  {
   "cell_type": "code",
   "execution_count": 31,
   "metadata": {},
   "outputs": [
    {
     "data": {
      "text/plain": [
       "1.0"
      ]
     },
     "execution_count": 31,
     "metadata": {},
     "output_type": "execute_result"
    }
   ],
   "source": [
    "#pull alpha & scores\n",
    "elas.alpha_"
   ]
  },
  {
   "cell_type": "code",
   "execution_count": 32,
   "metadata": {},
   "outputs": [
    {
     "data": {
      "text/plain": [
       "0.8770335007266388"
      ]
     },
     "execution_count": 32,
     "metadata": {},
     "output_type": "execute_result"
    }
   ],
   "source": [
    "elas.score(X_train, y_train)"
   ]
  },
  {
   "cell_type": "code",
   "execution_count": 33,
   "metadata": {},
   "outputs": [
    {
     "data": {
      "text/plain": [
       "0.8789449489589242"
      ]
     },
     "execution_count": 33,
     "metadata": {},
     "output_type": "execute_result"
    }
   ],
   "source": [
    "elas.score(X_test, y_test)"
   ]
  },
  {
   "cell_type": "code",
   "execution_count": 34,
   "metadata": {},
   "outputs": [
    {
     "data": {
      "text/plain": [
       "0.8789449489589242"
      ]
     },
     "execution_count": 34,
     "metadata": {},
     "output_type": "execute_result"
    }
   ],
   "source": [
    "#confirm R2\n",
    "y_preds = elas.predict(X_test)\n",
    "r2_score(y_test, y_preds)"
   ]
  },
  {
   "cell_type": "code",
   "execution_count": 35,
   "metadata": {},
   "outputs": [
    {
     "data": {
      "text/plain": [
       "23044.50973352861"
      ]
     },
     "execution_count": 35,
     "metadata": {},
     "output_type": "execute_result"
    }
   ],
   "source": [
    "#RMSE\n",
    "mean_squared_error(y_test,y_preds,squared=False)"
   ]
  },
  {
   "cell_type": "markdown",
   "metadata": {},
   "source": [
    "The R2 and RMSE for elastic net are a tad bit worse in comparison to lasso & ridge."
   ]
  },
  {
   "cell_type": "markdown",
   "metadata": {},
   "source": [
    "--------------------------------"
   ]
  },
  {
   "cell_type": "markdown",
   "metadata": {},
   "source": [
    "#### Model Choice"
   ]
  },
  {
   "cell_type": "markdown",
   "metadata": {},
   "source": [
    "First I ruled out linear regression & elastic net due to the the fact that the R2 & RSME scores were worse in comparison to lasso & ridge. \n",
    "\n",
    "I decided to use the ridge model generated above because it will perform better when a prediction is the outcome of many variables (in comparison to lasso).\n",
    "\n",
    "Source:http://www.sthda.com/english/articles/37-model-selection-essentials-in-r/153-penalized-regression-essentials-ridge-lasso-elastic-net/#:~:text=Generally%2C%20lasso%20might%20perform%20better,2014)."
   ]
  },
  {
   "cell_type": "code",
   "execution_count": 36,
   "metadata": {},
   "outputs": [
    {
     "data": {
      "text/plain": [
       "(array([     0., 100000., 200000., 300000., 400000., 500000.]),\n",
       " [Text(0, 0, ''),\n",
       "  Text(0, 0, ''),\n",
       "  Text(0, 0, ''),\n",
       "  Text(0, 0, ''),\n",
       "  Text(0, 0, ''),\n",
       "  Text(0, 0, '')])"
      ]
     },
     "execution_count": 36,
     "metadata": {},
     "output_type": "execute_result"
    },
    {
     "data": {
      "image/png": "[encoded data removed]",
      "text/plain": [
       "<Figure size 1800x720 with 1 Axes>"
      ]
     },
     "metadata": {
      "needs_background": "light"
     },
     "output_type": "display_data"
    }
   ],
   "source": [
    "#created plot to display the difference of the predicted value versus actual value for a given houses price\n",
    "#source: https://matplotlib.org/api/axes_api.html#matplotlib.axes.Axes.plot\n",
    "\n",
    "var_preds = ridge.predict(X)\n",
    "plt.figure(figsize = (25, 10))\n",
    "plt.plot(X.index[0:100], var_preds[0:100], label = 'Predicted')\n",
    "plt.scatter(X.index[0:100], y[0:100], color = 'orange', label = 'Actual')\n",
    "plt.ylabel('Sales Price',fontsize = 20)\n",
    "plt.xlabel('House',fontsize = 20)\n",
    "plt.title('Ridge Model - Predicted Price vs Actual Price', fontsize = 40)\n",
    "plt.xticks(fontsize = 20)\n",
    "plt.yticks(fontsize = 20)"
   ]
  },
  {
   "cell_type": "code",
   "execution_count": 37,
   "metadata": {},
   "outputs": [
    {
     "data": {
      "text/html": [
       "<div>\n",
       "<style scoped>\n",
       "    .dataframe tbody tr th:only-of-type {\n",
       "        vertical-align: middle;\n",
       "    }\n",
       "\n",
       "    .dataframe tbody tr th {\n",
       "        vertical-align: top;\n",
       "    }\n",
       "\n",
       "    .dataframe thead th {\n",
       "        text-align: right;\n",
       "    }\n",
       "</style>\n",
       "<table border=\"1\" class=\"dataframe\">\n",
       "  <thead>\n",
       "    <tr style=\"text-align: right;\">\n",
       "      <th></th>\n",
       "      <th>overall_qual</th>\n",
       "      <th>exter_qual</th>\n",
       "      <th>gr_liv_area</th>\n",
       "      <th>1st_flr_sf</th>\n",
       "      <th>kitchen_qual</th>\n",
       "      <th>year_built</th>\n",
       "      <th>garage_area</th>\n",
       "      <th>year_remod/add</th>\n",
       "      <th>full_bath</th>\n",
       "      <th>bsmtfin_sf_1</th>\n",
       "      <th>mas_vnr_area</th>\n",
       "      <th>fireplaces</th>\n",
       "      <th>heating_qc</th>\n",
       "      <th>lot_area</th>\n",
       "      <th>wood_deck_sf</th>\n",
       "      <th>open_porch_sf</th>\n",
       "      <th>bsmtfin_sf_2</th>\n",
       "      <th>bsmt_unf_sf</th>\n",
       "      <th>2nd_flr_sf</th>\n",
       "      <th>lot_frontage</th>\n",
       "      <th>overall_cond</th>\n",
       "      <th>low_qual_fin_sf</th>\n",
       "      <th>bsmt_full_bath</th>\n",
       "      <th>bsmt_half_bath</th>\n",
       "      <th>half_bath</th>\n",
       "      <th>bedroom_abvgr</th>\n",
       "      <th>kitchen_abvgr</th>\n",
       "      <th>enclosed_porch</th>\n",
       "      <th>3ssn_porch</th>\n",
       "      <th>screen_porch</th>\n",
       "      <th>pool_area</th>\n",
       "      <th>misc_val</th>\n",
       "      <th>mo_sold</th>\n",
       "      <th>yr_sold</th>\n",
       "      <th>lot_shape</th>\n",
       "      <th>utilities</th>\n",
       "      <th>land_slope</th>\n",
       "      <th>exter_cond</th>\n",
       "      <th>bsmt_qual</th>\n",
       "      <th>bsmt_cond</th>\n",
       "      <th>bsmt_exposure</th>\n",
       "      <th>bsmtfin_type_1</th>\n",
       "      <th>bsmtfin_type_2</th>\n",
       "      <th>electrical</th>\n",
       "      <th>functional</th>\n",
       "      <th>garage_finish</th>\n",
       "      <th>garage_qual</th>\n",
       "      <th>garage_cond</th>\n",
       "      <th>paved_drive</th>\n",
       "      <th>build_remodel</th>\n",
       "      <th>lot_size_class</th>\n",
       "      <th>SalePrice</th>\n",
       "    </tr>\n",
       "  </thead>\n",
       "  <tbody>\n",
       "    <tr>\n",
       "      <th>0</th>\n",
       "      <td>-0.036625</td>\n",
       "      <td>-0.678056</td>\n",
       "      <td>0.851644</td>\n",
       "      <td>-0.634014</td>\n",
       "      <td>-2.280707</td>\n",
       "      <td>-1.991272</td>\n",
       "      <td>-0.142805</td>\n",
       "      <td>-1.683931</td>\n",
       "      <td>0.823523</td>\n",
       "      <td>-1.007121</td>\n",
       "      <td>-0.567521</td>\n",
       "      <td>-0.924179</td>\n",
       "      <td>-0.135191</td>\n",
       "      <td>-0.116539</td>\n",
       "      <td>-0.771435</td>\n",
       "      <td>0.189742</td>\n",
       "      <td>-0.301889</td>\n",
       "      <td>1.128982</td>\n",
       "      <td>1.551978</td>\n",
       "      <td>0.354090</td>\n",
       "      <td>2.157251</td>\n",
       "      <td>-0.083828</td>\n",
       "      <td>-0.830056</td>\n",
       "      <td>-0.24312</td>\n",
       "      <td>-0.788376</td>\n",
       "      <td>1.349887</td>\n",
       "      <td>4.253806</td>\n",
       "      <td>1.201172</td>\n",
       "      <td>-0.104133</td>\n",
       "      <td>-0.279956</td>\n",
       "      <td>-0.063043</td>\n",
       "      <td>-0.088203</td>\n",
       "      <td>-0.834055</td>\n",
       "      <td>-1.375733</td>\n",
       "      <td>0.686597</td>\n",
       "      <td>0.033768</td>\n",
       "      <td>0.216642</td>\n",
       "      <td>-5.439648</td>\n",
       "      <td>0.033768</td>\n",
       "      <td>0.02387</td>\n",
       "      <td>-0.634666</td>\n",
       "      <td>-1.312056</td>\n",
       "      <td>-0.32094</td>\n",
       "      <td>-8.232700</td>\n",
       "      <td>0.250709</td>\n",
       "      <td>0.0</td>\n",
       "      <td>-7.595978</td>\n",
       "      <td>-7.718947</td>\n",
       "      <td>0.322506</td>\n",
       "      <td>1.038392</td>\n",
       "      <td>0</td>\n",
       "      <td>149476.167529</td>\n",
       "    </tr>\n",
       "    <tr>\n",
       "      <th>1</th>\n",
       "      <td>-0.767467</td>\n",
       "      <td>-0.678056</td>\n",
       "      <td>0.928691</td>\n",
       "      <td>2.189607</td>\n",
       "      <td>-0.755604</td>\n",
       "      <td>0.214229</td>\n",
       "      <td>0.515669</td>\n",
       "      <td>-0.362932</td>\n",
       "      <td>0.823523</td>\n",
       "      <td>-1.007121</td>\n",
       "      <td>-0.567521</td>\n",
       "      <td>-0.924179</td>\n",
       "      <td>-1.194990</td>\n",
       "      <td>-0.064523</td>\n",
       "      <td>0.632217</td>\n",
       "      <td>-0.690771</td>\n",
       "      <td>-0.301889</td>\n",
       "      <td>3.352355</td>\n",
       "      <td>-0.805101</td>\n",
       "      <td>-1.660510</td>\n",
       "      <td>-1.388030</td>\n",
       "      <td>-0.083828</td>\n",
       "      <td>-0.830056</td>\n",
       "      <td>-0.24312</td>\n",
       "      <td>-0.788376</td>\n",
       "      <td>3.758832</td>\n",
       "      <td>4.253806</td>\n",
       "      <td>-0.328721</td>\n",
       "      <td>-0.104133</td>\n",
       "      <td>-0.279956</td>\n",
       "      <td>-0.063043</td>\n",
       "      <td>-0.088203</td>\n",
       "      <td>0.680527</td>\n",
       "      <td>-1.375733</td>\n",
       "      <td>-1.040716</td>\n",
       "      <td>0.033768</td>\n",
       "      <td>0.216642</td>\n",
       "      <td>0.309964</td>\n",
       "      <td>0.033768</td>\n",
       "      <td>0.02387</td>\n",
       "      <td>-0.634666</td>\n",
       "      <td>-1.312056</td>\n",
       "      <td>-0.32094</td>\n",
       "      <td>0.261202</td>\n",
       "      <td>0.250709</td>\n",
       "      <td>0.0</td>\n",
       "      <td>0.186132</td>\n",
       "      <td>0.152407</td>\n",
       "      <td>0.322506</td>\n",
       "      <td>-0.554598</td>\n",
       "      <td>0</td>\n",
       "      <td>151575.489336</td>\n",
       "    </tr>\n",
       "    <tr>\n",
       "      <th>2</th>\n",
       "      <td>0.694217</td>\n",
       "      <td>1.109731</td>\n",
       "      <td>-0.001807</td>\n",
       "      <td>-1.284593</td>\n",
       "      <td>0.769500</td>\n",
       "      <td>1.168849</td>\n",
       "      <td>-0.208652</td>\n",
       "      <td>1.055919</td>\n",
       "      <td>0.823523</td>\n",
       "      <td>0.257120</td>\n",
       "      <td>-0.567521</td>\n",
       "      <td>0.570166</td>\n",
       "      <td>0.924608</td>\n",
       "      <td>0.679902</td>\n",
       "      <td>0.054243</td>\n",
       "      <td>-0.338566</td>\n",
       "      <td>-0.301889</td>\n",
       "      <td>-1.031000</td>\n",
       "      <td>1.117536</td>\n",
       "      <td>0.032922</td>\n",
       "      <td>-0.501710</td>\n",
       "      <td>-0.083828</td>\n",
       "      <td>1.057998</td>\n",
       "      <td>-0.24312</td>\n",
       "      <td>1.189322</td>\n",
       "      <td>0.145415</td>\n",
       "      <td>-0.213708</td>\n",
       "      <td>-0.328721</td>\n",
       "      <td>-0.104133</td>\n",
       "      <td>-0.279956</td>\n",
       "      <td>-0.063043</td>\n",
       "      <td>-0.088203</td>\n",
       "      <td>1.059172</td>\n",
       "      <td>-1.375733</td>\n",
       "      <td>-1.040716</td>\n",
       "      <td>0.033768</td>\n",
       "      <td>0.216642</td>\n",
       "      <td>0.309964</td>\n",
       "      <td>0.033768</td>\n",
       "      <td>3.51692</td>\n",
       "      <td>1.300184</td>\n",
       "      <td>1.135851</td>\n",
       "      <td>-0.32094</td>\n",
       "      <td>0.261202</td>\n",
       "      <td>0.250709</td>\n",
       "      <td>0.0</td>\n",
       "      <td>0.186132</td>\n",
       "      <td>0.152407</td>\n",
       "      <td>0.322506</td>\n",
       "      <td>-0.554598</td>\n",
       "      <td>0</td>\n",
       "      <td>217841.470129</td>\n",
       "    </tr>\n",
       "    <tr>\n",
       "      <th>3</th>\n",
       "      <td>-0.767467</td>\n",
       "      <td>1.109731</td>\n",
       "      <td>-1.044913</td>\n",
       "      <td>-0.474035</td>\n",
       "      <td>-0.755604</td>\n",
       "      <td>-1.563339</td>\n",
       "      <td>0.045330</td>\n",
       "      <td>1.055919</td>\n",
       "      <td>-0.966213</td>\n",
       "      <td>-1.007121</td>\n",
       "      <td>-0.567521</td>\n",
       "      <td>-0.924179</td>\n",
       "      <td>-1.194990</td>\n",
       "      <td>-0.178757</td>\n",
       "      <td>-0.771435</td>\n",
       "      <td>-0.690771</td>\n",
       "      <td>-0.301889</td>\n",
       "      <td>1.006896</td>\n",
       "      <td>-0.805101</td>\n",
       "      <td>0.091316</td>\n",
       "      <td>0.384611</td>\n",
       "      <td>-0.083828</td>\n",
       "      <td>-0.830056</td>\n",
       "      <td>-0.24312</td>\n",
       "      <td>-0.788376</td>\n",
       "      <td>-1.059058</td>\n",
       "      <td>-0.213708</td>\n",
       "      <td>2.184675</td>\n",
       "      <td>-0.104133</td>\n",
       "      <td>-0.279956</td>\n",
       "      <td>-0.063043</td>\n",
       "      <td>-0.088203</td>\n",
       "      <td>0.301881</td>\n",
       "      <td>-0.622212</td>\n",
       "      <td>0.686597</td>\n",
       "      <td>0.033768</td>\n",
       "      <td>0.216642</td>\n",
       "      <td>0.309964</td>\n",
       "      <td>0.033768</td>\n",
       "      <td>0.02387</td>\n",
       "      <td>-0.634666</td>\n",
       "      <td>-1.312056</td>\n",
       "      <td>-0.32094</td>\n",
       "      <td>0.261202</td>\n",
       "      <td>0.250709</td>\n",
       "      <td>0.0</td>\n",
       "      <td>-3.704923</td>\n",
       "      <td>0.152407</td>\n",
       "      <td>-3.378933</td>\n",
       "      <td>2.750856</td>\n",
       "      <td>0</td>\n",
       "      <td>125194.773698</td>\n",
       "    </tr>\n",
       "    <tr>\n",
       "      <th>4</th>\n",
       "      <td>-0.036625</td>\n",
       "      <td>-0.678056</td>\n",
       "      <td>-0.203316</td>\n",
       "      <td>0.661812</td>\n",
       "      <td>-0.755604</td>\n",
       "      <td>-0.246622</td>\n",
       "      <td>0.205245</td>\n",
       "      <td>-1.047895</td>\n",
       "      <td>-0.966213</td>\n",
       "      <td>0.382631</td>\n",
       "      <td>0.753476</td>\n",
       "      <td>2.064511</td>\n",
       "      <td>-0.135191</td>\n",
       "      <td>-0.080728</td>\n",
       "      <td>-0.771435</td>\n",
       "      <td>0.424545</td>\n",
       "      <td>-0.301889</td>\n",
       "      <td>0.577248</td>\n",
       "      <td>-0.805101</td>\n",
       "      <td>-1.660510</td>\n",
       "      <td>-0.501710</td>\n",
       "      <td>-0.083828</td>\n",
       "      <td>1.057998</td>\n",
       "      <td>-0.24312</td>\n",
       "      <td>1.189322</td>\n",
       "      <td>0.145415</td>\n",
       "      <td>-0.213708</td>\n",
       "      <td>-0.328721</td>\n",
       "      <td>-0.104133</td>\n",
       "      <td>3.212349</td>\n",
       "      <td>-0.063043</td>\n",
       "      <td>-0.088203</td>\n",
       "      <td>0.301881</td>\n",
       "      <td>0.884829</td>\n",
       "      <td>-1.040716</td>\n",
       "      <td>0.033768</td>\n",
       "      <td>0.216642</td>\n",
       "      <td>0.309964</td>\n",
       "      <td>0.033768</td>\n",
       "      <td>0.02387</td>\n",
       "      <td>-0.634666</td>\n",
       "      <td>0.156688</td>\n",
       "      <td>-0.32094</td>\n",
       "      <td>0.261202</td>\n",
       "      <td>0.250709</td>\n",
       "      <td>0.0</td>\n",
       "      <td>0.186132</td>\n",
       "      <td>0.152407</td>\n",
       "      <td>0.322506</td>\n",
       "      <td>-0.554598</td>\n",
       "      <td>0</td>\n",
       "      <td>169296.292315</td>\n",
       "    </tr>\n",
       "  </tbody>\n",
       "</table>\n",
       "</div>"
      ],
      "text/plain": [
       "   overall_qual  exter_qual  gr_liv_area  1st_flr_sf  kitchen_qual  \\\n",
       "0     -0.036625   -0.678056     0.851644   -0.634014     -2.280707   \n",
       "1     -0.767467   -0.678056     0.928691    2.189607     -0.755604   \n",
       "2      0.694217    1.109731    -0.001807   -1.284593      0.769500   \n",
       "3     -0.767467    1.109731    -1.044913   -0.474035     -0.755604   \n",
       "4     -0.036625   -0.678056    -0.203316    0.661812     -0.755604   \n",
       "\n",
       "   year_built  garage_area  year_remod/add  full_bath  bsmtfin_sf_1  \\\n",
       "0   -1.991272    -0.142805       -1.683931   0.823523     -1.007121   \n",
       "1    0.214229     0.515669       -0.362932   0.823523     -1.007121   \n",
       "2    1.168849    -0.208652        1.055919   0.823523      0.257120   \n",
       "3   -1.563339     0.045330        1.055919  -0.966213     -1.007121   \n",
       "4   -0.246622     0.205245       -1.047895  -0.966213      0.382631   \n",
       "\n",
       "   mas_vnr_area  fireplaces  heating_qc  lot_area  wood_deck_sf  \\\n",
       "0     -0.567521   -0.924179   -0.135191 -0.116539     -0.771435   \n",
       "1     -0.567521   -0.924179   -1.194990 -0.064523      0.632217   \n",
       "2     -0.567521    0.570166    0.924608  0.679902      0.054243   \n",
       "3     -0.567521   -0.924179   -1.194990 -0.178757     -0.771435   \n",
       "4      0.753476    2.064511   -0.135191 -0.080728     -0.771435   \n",
       "\n",
       "   open_porch_sf  bsmtfin_sf_2  bsmt_unf_sf  2nd_flr_sf  lot_frontage  \\\n",
       "0       0.189742     -0.301889     1.128982    1.551978      0.354090   \n",
       "1      -0.690771     -0.301889     3.352355   -0.805101     -1.660510   \n",
       "2      -0.338566     -0.301889    -1.031000    1.117536      0.032922   \n",
       "3      -0.690771     -0.301889     1.006896   -0.805101      0.091316   \n",
       "4       0.424545     -0.301889     0.577248   -0.805101     -1.660510   \n",
       "\n",
       "   overall_cond  low_qual_fin_sf  bsmt_full_bath  bsmt_half_bath  half_bath  \\\n",
       "0      2.157251        -0.083828       -0.830056        -0.24312  -0.788376   \n",
       "1     -1.388030        -0.083828       -0.830056        -0.24312  -0.788376   \n",
       "2     -0.501710        -0.083828        1.057998        -0.24312   1.189322   \n",
       "3      0.384611        -0.083828       -0.830056        -0.24312  -0.788376   \n",
       "4     -0.501710        -0.083828        1.057998        -0.24312   1.189322   \n",
       "\n",
       "   bedroom_abvgr  kitchen_abvgr  enclosed_porch  3ssn_porch  screen_porch  \\\n",
       "0       1.349887       4.253806        1.201172   -0.104133     -0.279956   \n",
       "1       3.758832       4.253806       -0.328721   -0.104133     -0.279956   \n",
       "2       0.145415      -0.213708       -0.328721   -0.104133     -0.279956   \n",
       "3      -1.059058      -0.213708        2.184675   -0.104133     -0.279956   \n",
       "4       0.145415      -0.213708       -0.328721   -0.104133      3.212349   \n",
       "\n",
       "   pool_area  misc_val   mo_sold   yr_sold  lot_shape  utilities  land_slope  \\\n",
       "0  -0.063043 -0.088203 -0.834055 -1.375733   0.686597   0.033768    0.216642   \n",
       "1  -0.063043 -0.088203  0.680527 -1.375733  -1.040716   0.033768    0.216642   \n",
       "2  -0.063043 -0.088203  1.059172 -1.375733  -1.040716   0.033768    0.216642   \n",
       "3  -0.063043 -0.088203  0.301881 -0.622212   0.686597   0.033768    0.216642   \n",
       "4  -0.063043 -0.088203  0.301881  0.884829  -1.040716   0.033768    0.216642   \n",
       "\n",
       "   exter_cond  bsmt_qual  bsmt_cond  bsmt_exposure  bsmtfin_type_1  \\\n",
       "0   -5.439648   0.033768    0.02387      -0.634666       -1.312056   \n",
       "1    0.309964   0.033768    0.02387      -0.634666       -1.312056   \n",
       "2    0.309964   0.033768    3.51692       1.300184        1.135851   \n",
       "3    0.309964   0.033768    0.02387      -0.634666       -1.312056   \n",
       "4    0.309964   0.033768    0.02387      -0.634666        0.156688   \n",
       "\n",
       "   bsmtfin_type_2  electrical  functional  garage_finish  garage_qual  \\\n",
       "0        -0.32094   -8.232700    0.250709            0.0    -7.595978   \n",
       "1        -0.32094    0.261202    0.250709            0.0     0.186132   \n",
       "2        -0.32094    0.261202    0.250709            0.0     0.186132   \n",
       "3        -0.32094    0.261202    0.250709            0.0    -3.704923   \n",
       "4        -0.32094    0.261202    0.250709            0.0     0.186132   \n",
       "\n",
       "   garage_cond  paved_drive  build_remodel  lot_size_class      SalePrice  \n",
       "0    -7.718947     0.322506       1.038392               0  149476.167529  \n",
       "1     0.152407     0.322506      -0.554598               0  151575.489336  \n",
       "2     0.152407     0.322506      -0.554598               0  217841.470129  \n",
       "3     0.152407    -3.378933       2.750856               0  125194.773698  \n",
       "4     0.152407     0.322506      -0.554598               0  169296.292315  "
      ]
     },
     "execution_count": 37,
     "metadata": {},
     "output_type": "execute_result"
    }
   ],
   "source": [
    "#generate predictions on test data\n",
    "final_test.drop(columns = ['saleprice', 'id'], axis = 1, inplace = True)\n",
    "final_test['SalePrice'] = ridge.predict(final_test)\n",
    "final_test.head(5)"
   ]
  },
  {
   "cell_type": "code",
   "execution_count": 38,
   "metadata": {},
   "outputs": [
    {
     "data": {
      "text/html": [
       "<div>\n",
       "<style scoped>\n",
       "    .dataframe tbody tr th:only-of-type {\n",
       "        vertical-align: middle;\n",
       "    }\n",
       "\n",
       "    .dataframe tbody tr th {\n",
       "        vertical-align: top;\n",
       "    }\n",
       "\n",
       "    .dataframe thead th {\n",
       "        text-align: right;\n",
       "    }\n",
       "</style>\n",
       "<table border=\"1\" class=\"dataframe\">\n",
       "  <thead>\n",
       "    <tr style=\"text-align: right;\">\n",
       "      <th></th>\n",
       "      <th>Id</th>\n",
       "      <th>SalePrice</th>\n",
       "    </tr>\n",
       "  </thead>\n",
       "  <tbody>\n",
       "    <tr>\n",
       "      <th>0</th>\n",
       "      <td>2658</td>\n",
       "      <td>149476.167529</td>\n",
       "    </tr>\n",
       "    <tr>\n",
       "      <th>1</th>\n",
       "      <td>2718</td>\n",
       "      <td>151575.489336</td>\n",
       "    </tr>\n",
       "    <tr>\n",
       "      <th>2</th>\n",
       "      <td>2414</td>\n",
       "      <td>217841.470129</td>\n",
       "    </tr>\n",
       "    <tr>\n",
       "      <th>3</th>\n",
       "      <td>1989</td>\n",
       "      <td>125194.773698</td>\n",
       "    </tr>\n",
       "    <tr>\n",
       "      <th>4</th>\n",
       "      <td>625</td>\n",
       "      <td>169296.292315</td>\n",
       "    </tr>\n",
       "  </tbody>\n",
       "</table>\n",
       "</div>"
      ],
      "text/plain": [
       "     Id      SalePrice\n",
       "0  2658  149476.167529\n",
       "1  2718  151575.489336\n",
       "2  2414  217841.470129\n",
       "3  1989  125194.773698\n",
       "4   625  169296.292315"
      ]
     },
     "execution_count": 38,
     "metadata": {},
     "output_type": "execute_result"
    }
   ],
   "source": [
    "#format needed for submissions\n",
    "final_test['Id'] = df_test['id']\n",
    "submission = final_test[['Id', 'SalePrice']].copy()\n",
    "submission.head(5)"
   ]
  },
  {
   "cell_type": "code",
   "execution_count": 39,
   "metadata": {},
   "outputs": [],
   "source": [
    "#saved prediction results as CSV file\n",
    "submission.to_csv('../final_colinmondi/submission_ridge.csv', index = False)"
   ]
  },
  {
   "cell_type": "markdown",
   "metadata": {},
   "source": [
    "---------------------------------------------"
   ]
  },
  {
   "cell_type": "markdown",
   "metadata": {},
   "source": [
    "#### GridSearch"
   ]
  },
  {
   "cell_type": "markdown",
   "metadata": {},
   "source": [
    "Utilized GridSearch to view how each individual variable was performing for our Ridge model"
   ]
  },
  {
   "cell_type": "code",
   "execution_count": 40,
   "metadata": {},
   "outputs": [],
   "source": [
    "final_train_cm = pd.read_csv('../final_colinmondi/final_train.csv', skipinitialspace=True)\n",
    "final_test_cm = pd.read_csv('../final_colinmondi/final_test.csv', skipinitialspace=True)"
   ]
  },
  {
   "cell_type": "code",
   "execution_count": 41,
   "metadata": {},
   "outputs": [
    {
     "data": {
      "text/html": [
       "<table class=\"simpletable\">\n",
       "<caption>OLS Regression Results</caption>\n",
       "<tr>\n",
       "  <th>Dep. Variable:</th>        <td>saleprice</td>    <th>  R-squared:         </th> <td>   0.892</td> \n",
       "</tr>\n",
       "<tr>\n",
       "  <th>Model:</th>                   <td>OLS</td>       <th>  Adj. R-squared:    </th> <td>   0.889</td> \n",
       "</tr>\n",
       "<tr>\n",
       "  <th>Method:</th>             <td>Least Squares</td>  <th>  F-statistic:       </th> <td>   331.5</td> \n",
       "</tr>\n",
       "<tr>\n",
       "  <th>Date:</th>             <td>Fri, 08 Jan 2021</td> <th>  Prob (F-statistic):</th>  <td>  0.00</td>  \n",
       "</tr>\n",
       "<tr>\n",
       "  <th>Time:</th>                 <td>14:31:22</td>     <th>  Log-Likelihood:    </th> <td> -22159.</td> \n",
       "</tr>\n",
       "<tr>\n",
       "  <th>No. Observations:</th>      <td>  1933</td>      <th>  AIC:               </th> <td>4.441e+04</td>\n",
       "</tr>\n",
       "<tr>\n",
       "  <th>Df Residuals:</th>          <td>  1885</td>      <th>  BIC:               </th> <td>4.468e+04</td>\n",
       "</tr>\n",
       "<tr>\n",
       "  <th>Df Model:</th>              <td>    47</td>      <th>                     </th>     <td> </td>    \n",
       "</tr>\n",
       "<tr>\n",
       "  <th>Covariance Type:</th>      <td>nonrobust</td>    <th>                     </th>     <td> </td>    \n",
       "</tr>\n",
       "</table>\n",
       "<table class=\"simpletable\">\n",
       "<tr>\n",
       "         <td></td>            <th>coef</th>     <th>std err</th>      <th>t</th>      <th>P>|t|</th>  <th>[0.025</th>    <th>0.975]</th>  \n",
       "</tr>\n",
       "<tr>\n",
       "  <th>const</th>           <td> 1.766e+05</td> <td>  534.979</td> <td>  330.190</td> <td> 0.000</td> <td> 1.76e+05</td> <td> 1.78e+05</td>\n",
       "</tr>\n",
       "<tr>\n",
       "  <th>overall_qual</th>    <td> 1.501e+04</td> <td> 1033.167</td> <td>   14.524</td> <td> 0.000</td> <td>  1.3e+04</td> <td>  1.7e+04</td>\n",
       "</tr>\n",
       "<tr>\n",
       "  <th>exter_qual</th>      <td> 7612.9788</td> <td>  953.506</td> <td>    7.984</td> <td> 0.000</td> <td> 5742.941</td> <td> 9483.017</td>\n",
       "</tr>\n",
       "<tr>\n",
       "  <th>gr_liv_area</th>     <td> 1.517e+04</td> <td>  712.236</td> <td>   21.292</td> <td> 0.000</td> <td> 1.38e+04</td> <td> 1.66e+04</td>\n",
       "</tr>\n",
       "<tr>\n",
       "  <th>1st_flr_sf</th>      <td> 9154.6053</td> <td>  846.887</td> <td>   10.810</td> <td> 0.000</td> <td> 7493.671</td> <td> 1.08e+04</td>\n",
       "</tr>\n",
       "<tr>\n",
       "  <th>kitchen_qual</th>    <td> 5919.6368</td> <td>  873.207</td> <td>    6.779</td> <td> 0.000</td> <td> 4207.082</td> <td> 7632.192</td>\n",
       "</tr>\n",
       "<tr>\n",
       "  <th>year_built</th>      <td> 3765.1526</td> <td>  608.223</td> <td>    6.190</td> <td> 0.000</td> <td> 2572.292</td> <td> 4958.013</td>\n",
       "</tr>\n",
       "<tr>\n",
       "  <th>garage_area</th>     <td> 4527.3883</td> <td>  732.298</td> <td>    6.182</td> <td> 0.000</td> <td> 3091.189</td> <td> 5963.587</td>\n",
       "</tr>\n",
       "<tr>\n",
       "  <th>year_remod/add</th>  <td> 3462.0369</td> <td>  666.057</td> <td>    5.198</td> <td> 0.000</td> <td> 2155.751</td> <td> 4768.323</td>\n",
       "</tr>\n",
       "<tr>\n",
       "  <th>full_bath</th>       <td> -198.2976</td> <td>  874.975</td> <td>   -0.227</td> <td> 0.821</td> <td>-1914.318</td> <td> 1517.723</td>\n",
       "</tr>\n",
       "<tr>\n",
       "  <th>bsmtfin_sf_1</th>    <td> 1.233e+04</td> <td> 1259.068</td> <td>    9.793</td> <td> 0.000</td> <td> 9860.483</td> <td> 1.48e+04</td>\n",
       "</tr>\n",
       "<tr>\n",
       "  <th>mas_vnr_area</th>    <td> 3289.9428</td> <td>  609.406</td> <td>    5.399</td> <td> 0.000</td> <td> 2094.762</td> <td> 4485.124</td>\n",
       "</tr>\n",
       "<tr>\n",
       "  <th>fireplaces</th>      <td> 2183.6932</td> <td>  660.072</td> <td>    3.308</td> <td> 0.001</td> <td>  889.145</td> <td> 3478.242</td>\n",
       "</tr>\n",
       "<tr>\n",
       "  <th>heating_qc</th>      <td> 1665.4170</td> <td>  697.687</td> <td>    2.387</td> <td> 0.017</td> <td>  297.096</td> <td> 3033.738</td>\n",
       "</tr>\n",
       "<tr>\n",
       "  <th>lot_area</th>        <td> 7947.6620</td> <td>  750.525</td> <td>   10.589</td> <td> 0.000</td> <td> 6475.714</td> <td> 9419.610</td>\n",
       "</tr>\n",
       "<tr>\n",
       "  <th>wood_deck_sf</th>    <td>  785.9499</td> <td>  596.175</td> <td>    1.318</td> <td> 0.188</td> <td> -383.282</td> <td> 1955.182</td>\n",
       "</tr>\n",
       "<tr>\n",
       "  <th>open_porch_sf</th>   <td>  660.6910</td> <td>  586.671</td> <td>    1.126</td> <td> 0.260</td> <td> -489.901</td> <td> 1811.283</td>\n",
       "</tr>\n",
       "<tr>\n",
       "  <th>bsmtfin_sf_2</th>    <td> 2518.8672</td> <td>  959.352</td> <td>    2.626</td> <td> 0.009</td> <td>  637.364</td> <td> 4400.370</td>\n",
       "</tr>\n",
       "<tr>\n",
       "  <th>bsmt_unf_sf</th>     <td> 5457.3759</td> <td> 1205.387</td> <td>    4.527</td> <td> 0.000</td> <td> 3093.342</td> <td> 7821.410</td>\n",
       "</tr>\n",
       "<tr>\n",
       "  <th>2nd_flr_sf</th>      <td> 8590.7584</td> <td>  673.654</td> <td>   12.752</td> <td> 0.000</td> <td> 7269.572</td> <td> 9911.945</td>\n",
       "</tr>\n",
       "<tr>\n",
       "  <th>lot_frontage</th>    <td> 2663.3770</td> <td>  598.713</td> <td>    4.449</td> <td> 0.000</td> <td> 1489.168</td> <td> 3837.586</td>\n",
       "</tr>\n",
       "<tr>\n",
       "  <th>overall_cond</th>    <td> 3153.5054</td> <td>  701.025</td> <td>    4.498</td> <td> 0.000</td> <td> 1778.639</td> <td> 4528.372</td>\n",
       "</tr>\n",
       "<tr>\n",
       "  <th>low_qual_fin_sf</th> <td>  153.6196</td> <td>  543.489</td> <td>    0.283</td> <td> 0.777</td> <td> -912.284</td> <td> 1219.523</td>\n",
       "</tr>\n",
       "<tr>\n",
       "  <th>bsmt_full_bath</th>  <td>  747.9005</td> <td>  796.710</td> <td>    0.939</td> <td> 0.348</td> <td> -814.627</td> <td> 2310.428</td>\n",
       "</tr>\n",
       "<tr>\n",
       "  <th>bsmt_half_bath</th>  <td> -727.9250</td> <td>  581.417</td> <td>   -1.252</td> <td> 0.211</td> <td>-1868.214</td> <td>  412.364</td>\n",
       "</tr>\n",
       "<tr>\n",
       "  <th>half_bath</th>       <td> -305.5614</td> <td>  819.396</td> <td>   -0.373</td> <td> 0.709</td> <td>-1912.580</td> <td> 1301.457</td>\n",
       "</tr>\n",
       "<tr>\n",
       "  <th>bedroom_abvgr</th>   <td>-3694.9201</td> <td>  758.243</td> <td>   -4.873</td> <td> 0.000</td> <td>-5182.004</td> <td>-2207.836</td>\n",
       "</tr>\n",
       "<tr>\n",
       "  <th>kitchen_abvgr</th>   <td>-2278.7369</td> <td>  621.200</td> <td>   -3.668</td> <td> 0.000</td> <td>-3497.048</td> <td>-1060.426</td>\n",
       "</tr>\n",
       "<tr>\n",
       "  <th>enclosed_porch</th>  <td>  -50.5929</td> <td>  595.637</td> <td>   -0.085</td> <td> 0.932</td> <td>-1218.770</td> <td> 1117.584</td>\n",
       "</tr>\n",
       "<tr>\n",
       "  <th>3ssn_porch</th>      <td>  341.6012</td> <td>  540.610</td> <td>    0.632</td> <td> 0.528</td> <td> -718.656</td> <td> 1401.859</td>\n",
       "</tr>\n",
       "<tr>\n",
       "  <th>screen_porch</th>    <td> 1463.7917</td> <td>  562.560</td> <td>    2.602</td> <td> 0.009</td> <td>  360.485</td> <td> 2567.098</td>\n",
       "</tr>\n",
       "<tr>\n",
       "  <th>pool_area</th>       <td> -300.7403</td> <td>  549.978</td> <td>   -0.547</td> <td> 0.585</td> <td>-1379.371</td> <td>  777.890</td>\n",
       "</tr>\n",
       "<tr>\n",
       "  <th>misc_val</th>        <td> -434.7076</td> <td>  541.539</td> <td>   -0.803</td> <td> 0.422</td> <td>-1496.786</td> <td>  627.371</td>\n",
       "</tr>\n",
       "<tr>\n",
       "  <th>mo_sold</th>         <td>  867.3729</td> <td>  543.781</td> <td>    1.595</td> <td> 0.111</td> <td> -199.104</td> <td> 1933.849</td>\n",
       "</tr>\n",
       "<tr>\n",
       "  <th>yr_sold</th>         <td> -926.0288</td> <td>  547.062</td> <td>   -1.693</td> <td> 0.091</td> <td>-1998.940</td> <td>  146.882</td>\n",
       "</tr>\n",
       "<tr>\n",
       "  <th>lot_shape</th>       <td>    0.0945</td> <td>  625.119</td> <td>    0.000</td> <td> 1.000</td> <td>-1225.904</td> <td> 1226.093</td>\n",
       "</tr>\n",
       "<tr>\n",
       "  <th>utilities</th>       <td>  637.9715</td> <td>  544.596</td> <td>    1.171</td> <td> 0.242</td> <td> -430.103</td> <td> 1706.046</td>\n",
       "</tr>\n",
       "<tr>\n",
       "  <th>land_slope</th>      <td>-1688.8247</td> <td>  556.683</td> <td>   -3.034</td> <td> 0.002</td> <td>-2780.604</td> <td> -597.045</td>\n",
       "</tr>\n",
       "<tr>\n",
       "  <th>exter_cond</th>      <td> -215.9844</td> <td>  576.365</td> <td>   -0.375</td> <td> 0.708</td> <td>-1346.364</td> <td>  914.395</td>\n",
       "</tr>\n",
       "<tr>\n",
       "  <th>bsmt_qual</th>       <td>-9.651e-13</td> <td> 1.79e-13</td> <td>   -5.401</td> <td> 0.000</td> <td>-1.32e-12</td> <td>-6.15e-13</td>\n",
       "</tr>\n",
       "<tr>\n",
       "  <th>bsmt_cond</th>       <td>  284.2401</td> <td>  568.450</td> <td>    0.500</td> <td> 0.617</td> <td> -830.618</td> <td> 1399.098</td>\n",
       "</tr>\n",
       "<tr>\n",
       "  <th>bsmt_exposure</th>   <td> 3309.1694</td> <td>  631.731</td> <td>    5.238</td> <td> 0.000</td> <td> 2070.203</td> <td> 4548.136</td>\n",
       "</tr>\n",
       "<tr>\n",
       "  <th>bsmtfin_type_1</th>  <td> 1359.1897</td> <td>  815.211</td> <td>    1.667</td> <td> 0.096</td> <td> -239.621</td> <td> 2958.000</td>\n",
       "</tr>\n",
       "<tr>\n",
       "  <th>bsmtfin_type_2</th>  <td> -781.1352</td> <td>  869.377</td> <td>   -0.898</td> <td> 0.369</td> <td>-2486.178</td> <td>  923.907</td>\n",
       "</tr>\n",
       "<tr>\n",
       "  <th>electrical</th>      <td>-1166.0996</td> <td>  604.824</td> <td>   -1.928</td> <td> 0.054</td> <td>-2352.295</td> <td>   20.096</td>\n",
       "</tr>\n",
       "<tr>\n",
       "  <th>functional</th>      <td> 4135.9306</td> <td>  582.924</td> <td>    7.095</td> <td> 0.000</td> <td> 2992.686</td> <td> 5279.175</td>\n",
       "</tr>\n",
       "<tr>\n",
       "  <th>garage_finish</th>   <td>-1.854e-13</td> <td> 5.76e-14</td> <td>   -3.218</td> <td> 0.001</td> <td>-2.98e-13</td> <td>-7.24e-14</td>\n",
       "</tr>\n",
       "<tr>\n",
       "  <th>garage_qual</th>     <td> -270.0180</td> <td>  643.709</td> <td>   -0.419</td> <td> 0.675</td> <td>-1532.475</td> <td>  992.439</td>\n",
       "</tr>\n",
       "<tr>\n",
       "  <th>garage_cond</th>     <td>  398.4321</td> <td>  645.806</td> <td>    0.617</td> <td> 0.537</td> <td> -868.137</td> <td> 1665.002</td>\n",
       "</tr>\n",
       "<tr>\n",
       "  <th>paved_drive</th>     <td> -787.5616</td> <td>  649.793</td> <td>   -1.212</td> <td> 0.226</td> <td>-2061.952</td> <td>  486.829</td>\n",
       "</tr>\n",
       "<tr>\n",
       "  <th>build_remodel</th>   <td>-1635.9748</td> <td>  570.480</td> <td>   -2.868</td> <td> 0.004</td> <td>-2754.814</td> <td> -517.135</td>\n",
       "</tr>\n",
       "<tr>\n",
       "  <th>lot_size_class</th>  <td>-2.075e+04</td> <td> 5340.699</td> <td>   -3.885</td> <td> 0.000</td> <td>-3.12e+04</td> <td>-1.03e+04</td>\n",
       "</tr>\n",
       "</table>\n",
       "<table class=\"simpletable\">\n",
       "<tr>\n",
       "  <th>Omnibus:</th>       <td>627.248</td> <th>  Durbin-Watson:     </th> <td>   1.985</td>\n",
       "</tr>\n",
       "<tr>\n",
       "  <th>Prob(Omnibus):</th> <td> 0.000</td>  <th>  Jarque-Bera (JB):  </th> <td>6568.097</td>\n",
       "</tr>\n",
       "<tr>\n",
       "  <th>Skew:</th>          <td> 1.215</td>  <th>  Prob(JB):          </th> <td>    0.00</td>\n",
       "</tr>\n",
       "<tr>\n",
       "  <th>Kurtosis:</th>      <td>11.698</td>  <th>  Cond. No.          </th> <td>1.39e+16</td>\n",
       "</tr>\n",
       "</table><br/><br/>Notes:<br/>[1] Standard Errors assume that the covariance matrix of the errors is correctly specified.<br/>[2] The smallest eigenvalue is 7.49e-29. This might indicate that there are<br/>strong multicollinearity problems or that the design matrix is singular."
      ],
      "text/plain": [
       "<class 'statsmodels.iolib.summary.Summary'>\n",
       "\"\"\"\n",
       "                            OLS Regression Results                            \n",
       "==============================================================================\n",
       "Dep. Variable:              saleprice   R-squared:                       0.892\n",
       "Model:                            OLS   Adj. R-squared:                  0.889\n",
       "Method:                 Least Squares   F-statistic:                     331.5\n",
       "Date:                Fri, 08 Jan 2021   Prob (F-statistic):               0.00\n",
       "Time:                        14:31:22   Log-Likelihood:                -22159.\n",
       "No. Observations:                1933   AIC:                         4.441e+04\n",
       "Df Residuals:                    1885   BIC:                         4.468e+04\n",
       "Df Model:                          47                                         \n",
       "Covariance Type:            nonrobust                                         \n",
       "===================================================================================\n",
       "                      coef    std err          t      P>|t|      [0.025      0.975]\n",
       "-----------------------------------------------------------------------------------\n",
       "const            1.766e+05    534.979    330.190      0.000    1.76e+05    1.78e+05\n",
       "overall_qual     1.501e+04   1033.167     14.524      0.000     1.3e+04     1.7e+04\n",
       "exter_qual       7612.9788    953.506      7.984      0.000    5742.941    9483.017\n",
       "gr_liv_area      1.517e+04    712.236     21.292      0.000    1.38e+04    1.66e+04\n",
       "1st_flr_sf       9154.6053    846.887     10.810      0.000    7493.671    1.08e+04\n",
       "kitchen_qual     5919.6368    873.207      6.779      0.000    4207.082    7632.192\n",
       "year_built       3765.1526    608.223      6.190      0.000    2572.292    4958.013\n",
       "garage_area      4527.3883    732.298      6.182      0.000    3091.189    5963.587\n",
       "year_remod/add   3462.0369    666.057      5.198      0.000    2155.751    4768.323\n",
       "full_bath        -198.2976    874.975     -0.227      0.821   -1914.318    1517.723\n",
       "bsmtfin_sf_1     1.233e+04   1259.068      9.793      0.000    9860.483    1.48e+04\n",
       "mas_vnr_area     3289.9428    609.406      5.399      0.000    2094.762    4485.124\n",
       "fireplaces       2183.6932    660.072      3.308      0.001     889.145    3478.242\n",
       "heating_qc       1665.4170    697.687      2.387      0.017     297.096    3033.738\n",
       "lot_area         7947.6620    750.525     10.589      0.000    6475.714    9419.610\n",
       "wood_deck_sf      785.9499    596.175      1.318      0.188    -383.282    1955.182\n",
       "open_porch_sf     660.6910    586.671      1.126      0.260    -489.901    1811.283\n",
       "bsmtfin_sf_2     2518.8672    959.352      2.626      0.009     637.364    4400.370\n",
       "bsmt_unf_sf      5457.3759   1205.387      4.527      0.000    3093.342    7821.410\n",
       "2nd_flr_sf       8590.7584    673.654     12.752      0.000    7269.572    9911.945\n",
       "lot_frontage     2663.3770    598.713      4.449      0.000    1489.168    3837.586\n",
       "overall_cond     3153.5054    701.025      4.498      0.000    1778.639    4528.372\n",
       "low_qual_fin_sf   153.6196    543.489      0.283      0.777    -912.284    1219.523\n",
       "bsmt_full_bath    747.9005    796.710      0.939      0.348    -814.627    2310.428\n",
       "bsmt_half_bath   -727.9250    581.417     -1.252      0.211   -1868.214     412.364\n",
       "half_bath        -305.5614    819.396     -0.373      0.709   -1912.580    1301.457\n",
       "bedroom_abvgr   -3694.9201    758.243     -4.873      0.000   -5182.004   -2207.836\n",
       "kitchen_abvgr   -2278.7369    621.200     -3.668      0.000   -3497.048   -1060.426\n",
       "enclosed_porch    -50.5929    595.637     -0.085      0.932   -1218.770    1117.584\n",
       "3ssn_porch        341.6012    540.610      0.632      0.528    -718.656    1401.859\n",
       "screen_porch     1463.7917    562.560      2.602      0.009     360.485    2567.098\n",
       "pool_area        -300.7403    549.978     -0.547      0.585   -1379.371     777.890\n",
       "misc_val         -434.7076    541.539     -0.803      0.422   -1496.786     627.371\n",
       "mo_sold           867.3729    543.781      1.595      0.111    -199.104    1933.849\n",
       "yr_sold          -926.0288    547.062     -1.693      0.091   -1998.940     146.882\n",
       "lot_shape           0.0945    625.119      0.000      1.000   -1225.904    1226.093\n",
       "utilities         637.9715    544.596      1.171      0.242    -430.103    1706.046\n",
       "land_slope      -1688.8247    556.683     -3.034      0.002   -2780.604    -597.045\n",
       "exter_cond       -215.9844    576.365     -0.375      0.708   -1346.364     914.395\n",
       "bsmt_qual       -9.651e-13   1.79e-13     -5.401      0.000   -1.32e-12   -6.15e-13\n",
       "bsmt_cond         284.2401    568.450      0.500      0.617    -830.618    1399.098\n",
       "bsmt_exposure    3309.1694    631.731      5.238      0.000    2070.203    4548.136\n",
       "bsmtfin_type_1   1359.1897    815.211      1.667      0.096    -239.621    2958.000\n",
       "bsmtfin_type_2   -781.1352    869.377     -0.898      0.369   -2486.178     923.907\n",
       "electrical      -1166.0996    604.824     -1.928      0.054   -2352.295      20.096\n",
       "functional       4135.9306    582.924      7.095      0.000    2992.686    5279.175\n",
       "garage_finish   -1.854e-13   5.76e-14     -3.218      0.001   -2.98e-13   -7.24e-14\n",
       "garage_qual      -270.0180    643.709     -0.419      0.675   -1532.475     992.439\n",
       "garage_cond       398.4321    645.806      0.617      0.537    -868.137    1665.002\n",
       "paved_drive      -787.5616    649.793     -1.212      0.226   -2061.952     486.829\n",
       "build_remodel   -1635.9748    570.480     -2.868      0.004   -2754.814    -517.135\n",
       "lot_size_class  -2.075e+04   5340.699     -3.885      0.000   -3.12e+04   -1.03e+04\n",
       "==============================================================================\n",
       "Omnibus:                      627.248   Durbin-Watson:                   1.985\n",
       "Prob(Omnibus):                  0.000   Jarque-Bera (JB):             6568.097\n",
       "Skew:                           1.215   Prob(JB):                         0.00\n",
       "Kurtosis:                      11.698   Cond. No.                     1.39e+16\n",
       "==============================================================================\n",
       "\n",
       "Notes:\n",
       "[1] Standard Errors assume that the covariance matrix of the errors is correctly specified.\n",
       "[2] The smallest eigenvalue is 7.49e-29. This might indicate that there are\n",
       "strong multicollinearity problems or that the design matrix is singular.\n",
       "\"\"\""
      ]
     },
     "execution_count": 41,
     "metadata": {},
     "output_type": "execute_result"
    }
   ],
   "source": [
    "#apply stats model add_constant function\n",
    "X_cm = final_train_cm.drop('saleprice', axis = 1)\n",
    "X_cm = sm.add_constant(X_cm)\n",
    "y_cm = final_train_cm['saleprice']\n",
    "\n",
    "#summrize via OLS\n",
    "ols = sm.OLS(y_cm, X_cm).fit()\n",
    "ols.summary()"
   ]
  },
  {
   "cell_type": "code",
   "execution_count": 42,
   "metadata": {},
   "outputs": [
    {
     "data": {
      "text/html": [
       "<table class=\"simpletable\">\n",
       "<caption>OLS Regression Results</caption>\n",
       "<tr>\n",
       "  <th>Dep. Variable:</th>        <td>saleprice</td>    <th>  R-squared:         </th> <td>   0.892</td> \n",
       "</tr>\n",
       "<tr>\n",
       "  <th>Model:</th>                   <td>OLS</td>       <th>  Adj. R-squared:    </th> <td>   0.889</td> \n",
       "</tr>\n",
       "<tr>\n",
       "  <th>Method:</th>             <td>Least Squares</td>  <th>  F-statistic:       </th> <td>   331.5</td> \n",
       "</tr>\n",
       "<tr>\n",
       "  <th>Date:</th>             <td>Fri, 08 Jan 2021</td> <th>  Prob (F-statistic):</th>  <td>  0.00</td>  \n",
       "</tr>\n",
       "<tr>\n",
       "  <th>Time:</th>                 <td>14:31:22</td>     <th>  Log-Likelihood:    </th> <td> -22159.</td> \n",
       "</tr>\n",
       "<tr>\n",
       "  <th>No. Observations:</th>      <td>  1933</td>      <th>  AIC:               </th> <td>4.441e+04</td>\n",
       "</tr>\n",
       "<tr>\n",
       "  <th>Df Residuals:</th>          <td>  1885</td>      <th>  BIC:               </th> <td>4.468e+04</td>\n",
       "</tr>\n",
       "<tr>\n",
       "  <th>Df Model:</th>              <td>    47</td>      <th>                     </th>     <td> </td>    \n",
       "</tr>\n",
       "<tr>\n",
       "  <th>Covariance Type:</th>      <td>nonrobust</td>    <th>                     </th>     <td> </td>    \n",
       "</tr>\n",
       "</table>\n",
       "<table class=\"simpletable\">\n",
       "<tr>\n",
       "         <td></td>            <th>coef</th>     <th>std err</th>      <th>t</th>      <th>P>|t|</th>  <th>[0.025</th>    <th>0.975]</th>  \n",
       "</tr>\n",
       "<tr>\n",
       "  <th>const</th>           <td> 1.766e+05</td> <td>  534.979</td> <td>  330.190</td> <td> 0.000</td> <td> 1.76e+05</td> <td> 1.78e+05</td>\n",
       "</tr>\n",
       "<tr>\n",
       "  <th>overall_qual</th>    <td> 1.501e+04</td> <td> 1033.167</td> <td>   14.524</td> <td> 0.000</td> <td>  1.3e+04</td> <td>  1.7e+04</td>\n",
       "</tr>\n",
       "<tr>\n",
       "  <th>exter_qual</th>      <td> 7612.9788</td> <td>  953.506</td> <td>    7.984</td> <td> 0.000</td> <td> 5742.941</td> <td> 9483.017</td>\n",
       "</tr>\n",
       "<tr>\n",
       "  <th>gr_liv_area</th>     <td> 1.517e+04</td> <td>  712.236</td> <td>   21.292</td> <td> 0.000</td> <td> 1.38e+04</td> <td> 1.66e+04</td>\n",
       "</tr>\n",
       "<tr>\n",
       "  <th>1st_flr_sf</th>      <td> 9154.6053</td> <td>  846.887</td> <td>   10.810</td> <td> 0.000</td> <td> 7493.671</td> <td> 1.08e+04</td>\n",
       "</tr>\n",
       "<tr>\n",
       "  <th>kitchen_qual</th>    <td> 5919.6368</td> <td>  873.207</td> <td>    6.779</td> <td> 0.000</td> <td> 4207.082</td> <td> 7632.192</td>\n",
       "</tr>\n",
       "<tr>\n",
       "  <th>year_built</th>      <td> 3765.1526</td> <td>  608.223</td> <td>    6.190</td> <td> 0.000</td> <td> 2572.292</td> <td> 4958.013</td>\n",
       "</tr>\n",
       "<tr>\n",
       "  <th>garage_area</th>     <td> 4527.3883</td> <td>  732.298</td> <td>    6.182</td> <td> 0.000</td> <td> 3091.189</td> <td> 5963.587</td>\n",
       "</tr>\n",
       "<tr>\n",
       "  <th>year_remod/add</th>  <td> 3462.0369</td> <td>  666.057</td> <td>    5.198</td> <td> 0.000</td> <td> 2155.751</td> <td> 4768.323</td>\n",
       "</tr>\n",
       "<tr>\n",
       "  <th>full_bath</th>       <td> -198.2976</td> <td>  874.975</td> <td>   -0.227</td> <td> 0.821</td> <td>-1914.318</td> <td> 1517.723</td>\n",
       "</tr>\n",
       "<tr>\n",
       "  <th>bsmtfin_sf_1</th>    <td> 1.233e+04</td> <td> 1259.068</td> <td>    9.793</td> <td> 0.000</td> <td> 9860.483</td> <td> 1.48e+04</td>\n",
       "</tr>\n",
       "<tr>\n",
       "  <th>mas_vnr_area</th>    <td> 3289.9428</td> <td>  609.406</td> <td>    5.399</td> <td> 0.000</td> <td> 2094.762</td> <td> 4485.124</td>\n",
       "</tr>\n",
       "<tr>\n",
       "  <th>fireplaces</th>      <td> 2183.6932</td> <td>  660.072</td> <td>    3.308</td> <td> 0.001</td> <td>  889.145</td> <td> 3478.242</td>\n",
       "</tr>\n",
       "<tr>\n",
       "  <th>heating_qc</th>      <td> 1665.4170</td> <td>  697.687</td> <td>    2.387</td> <td> 0.017</td> <td>  297.096</td> <td> 3033.738</td>\n",
       "</tr>\n",
       "<tr>\n",
       "  <th>lot_area</th>        <td> 7947.6620</td> <td>  750.525</td> <td>   10.589</td> <td> 0.000</td> <td> 6475.714</td> <td> 9419.610</td>\n",
       "</tr>\n",
       "<tr>\n",
       "  <th>wood_deck_sf</th>    <td>  785.9499</td> <td>  596.175</td> <td>    1.318</td> <td> 0.188</td> <td> -383.282</td> <td> 1955.182</td>\n",
       "</tr>\n",
       "<tr>\n",
       "  <th>open_porch_sf</th>   <td>  660.6910</td> <td>  586.671</td> <td>    1.126</td> <td> 0.260</td> <td> -489.901</td> <td> 1811.283</td>\n",
       "</tr>\n",
       "<tr>\n",
       "  <th>bsmtfin_sf_2</th>    <td> 2518.8672</td> <td>  959.352</td> <td>    2.626</td> <td> 0.009</td> <td>  637.364</td> <td> 4400.370</td>\n",
       "</tr>\n",
       "<tr>\n",
       "  <th>bsmt_unf_sf</th>     <td> 5457.3759</td> <td> 1205.387</td> <td>    4.527</td> <td> 0.000</td> <td> 3093.342</td> <td> 7821.410</td>\n",
       "</tr>\n",
       "<tr>\n",
       "  <th>2nd_flr_sf</th>      <td> 8590.7584</td> <td>  673.654</td> <td>   12.752</td> <td> 0.000</td> <td> 7269.572</td> <td> 9911.945</td>\n",
       "</tr>\n",
       "<tr>\n",
       "  <th>lot_frontage</th>    <td> 2663.3770</td> <td>  598.713</td> <td>    4.449</td> <td> 0.000</td> <td> 1489.168</td> <td> 3837.586</td>\n",
       "</tr>\n",
       "<tr>\n",
       "  <th>overall_cond</th>    <td> 3153.5054</td> <td>  701.025</td> <td>    4.498</td> <td> 0.000</td> <td> 1778.639</td> <td> 4528.372</td>\n",
       "</tr>\n",
       "<tr>\n",
       "  <th>low_qual_fin_sf</th> <td>  153.6196</td> <td>  543.489</td> <td>    0.283</td> <td> 0.777</td> <td> -912.284</td> <td> 1219.523</td>\n",
       "</tr>\n",
       "<tr>\n",
       "  <th>bsmt_full_bath</th>  <td>  747.9005</td> <td>  796.710</td> <td>    0.939</td> <td> 0.348</td> <td> -814.627</td> <td> 2310.428</td>\n",
       "</tr>\n",
       "<tr>\n",
       "  <th>bsmt_half_bath</th>  <td> -727.9250</td> <td>  581.417</td> <td>   -1.252</td> <td> 0.211</td> <td>-1868.214</td> <td>  412.364</td>\n",
       "</tr>\n",
       "<tr>\n",
       "  <th>half_bath</th>       <td> -305.5614</td> <td>  819.396</td> <td>   -0.373</td> <td> 0.709</td> <td>-1912.580</td> <td> 1301.457</td>\n",
       "</tr>\n",
       "<tr>\n",
       "  <th>bedroom_abvgr</th>   <td>-3694.9201</td> <td>  758.243</td> <td>   -4.873</td> <td> 0.000</td> <td>-5182.004</td> <td>-2207.836</td>\n",
       "</tr>\n",
       "<tr>\n",
       "  <th>kitchen_abvgr</th>   <td>-2278.7369</td> <td>  621.200</td> <td>   -3.668</td> <td> 0.000</td> <td>-3497.048</td> <td>-1060.426</td>\n",
       "</tr>\n",
       "<tr>\n",
       "  <th>enclosed_porch</th>  <td>  -50.5929</td> <td>  595.637</td> <td>   -0.085</td> <td> 0.932</td> <td>-1218.770</td> <td> 1117.584</td>\n",
       "</tr>\n",
       "<tr>\n",
       "  <th>3ssn_porch</th>      <td>  341.6012</td> <td>  540.610</td> <td>    0.632</td> <td> 0.528</td> <td> -718.656</td> <td> 1401.859</td>\n",
       "</tr>\n",
       "<tr>\n",
       "  <th>screen_porch</th>    <td> 1463.7917</td> <td>  562.560</td> <td>    2.602</td> <td> 0.009</td> <td>  360.485</td> <td> 2567.098</td>\n",
       "</tr>\n",
       "<tr>\n",
       "  <th>pool_area</th>       <td> -300.7403</td> <td>  549.978</td> <td>   -0.547</td> <td> 0.585</td> <td>-1379.371</td> <td>  777.890</td>\n",
       "</tr>\n",
       "<tr>\n",
       "  <th>misc_val</th>        <td> -434.7076</td> <td>  541.539</td> <td>   -0.803</td> <td> 0.422</td> <td>-1496.786</td> <td>  627.371</td>\n",
       "</tr>\n",
       "<tr>\n",
       "  <th>mo_sold</th>         <td>  867.3729</td> <td>  543.781</td> <td>    1.595</td> <td> 0.111</td> <td> -199.104</td> <td> 1933.849</td>\n",
       "</tr>\n",
       "<tr>\n",
       "  <th>yr_sold</th>         <td> -926.0288</td> <td>  547.062</td> <td>   -1.693</td> <td> 0.091</td> <td>-1998.940</td> <td>  146.882</td>\n",
       "</tr>\n",
       "<tr>\n",
       "  <th>lot_shape</th>       <td>    0.0945</td> <td>  625.119</td> <td>    0.000</td> <td> 1.000</td> <td>-1225.904</td> <td> 1226.093</td>\n",
       "</tr>\n",
       "<tr>\n",
       "  <th>utilities</th>       <td>  637.9715</td> <td>  544.596</td> <td>    1.171</td> <td> 0.242</td> <td> -430.103</td> <td> 1706.046</td>\n",
       "</tr>\n",
       "<tr>\n",
       "  <th>land_slope</th>      <td>-1688.8247</td> <td>  556.683</td> <td>   -3.034</td> <td> 0.002</td> <td>-2780.604</td> <td> -597.045</td>\n",
       "</tr>\n",
       "<tr>\n",
       "  <th>exter_cond</th>      <td> -215.9844</td> <td>  576.365</td> <td>   -0.375</td> <td> 0.708</td> <td>-1346.364</td> <td>  914.395</td>\n",
       "</tr>\n",
       "<tr>\n",
       "  <th>bsmt_qual</th>       <td>-9.651e-13</td> <td> 1.79e-13</td> <td>   -5.401</td> <td> 0.000</td> <td>-1.32e-12</td> <td>-6.15e-13</td>\n",
       "</tr>\n",
       "<tr>\n",
       "  <th>bsmt_cond</th>       <td>  284.2401</td> <td>  568.450</td> <td>    0.500</td> <td> 0.617</td> <td> -830.618</td> <td> 1399.098</td>\n",
       "</tr>\n",
       "<tr>\n",
       "  <th>bsmt_exposure</th>   <td> 3309.1694</td> <td>  631.731</td> <td>    5.238</td> <td> 0.000</td> <td> 2070.203</td> <td> 4548.136</td>\n",
       "</tr>\n",
       "<tr>\n",
       "  <th>bsmtfin_type_1</th>  <td> 1359.1897</td> <td>  815.211</td> <td>    1.667</td> <td> 0.096</td> <td> -239.621</td> <td> 2958.000</td>\n",
       "</tr>\n",
       "<tr>\n",
       "  <th>bsmtfin_type_2</th>  <td> -781.1352</td> <td>  869.377</td> <td>   -0.898</td> <td> 0.369</td> <td>-2486.178</td> <td>  923.907</td>\n",
       "</tr>\n",
       "<tr>\n",
       "  <th>electrical</th>      <td>-1166.0996</td> <td>  604.824</td> <td>   -1.928</td> <td> 0.054</td> <td>-2352.295</td> <td>   20.096</td>\n",
       "</tr>\n",
       "<tr>\n",
       "  <th>functional</th>      <td> 4135.9306</td> <td>  582.924</td> <td>    7.095</td> <td> 0.000</td> <td> 2992.686</td> <td> 5279.175</td>\n",
       "</tr>\n",
       "<tr>\n",
       "  <th>garage_finish</th>   <td>-1.854e-13</td> <td> 5.76e-14</td> <td>   -3.218</td> <td> 0.001</td> <td>-2.98e-13</td> <td>-7.24e-14</td>\n",
       "</tr>\n",
       "<tr>\n",
       "  <th>garage_qual</th>     <td> -270.0180</td> <td>  643.709</td> <td>   -0.419</td> <td> 0.675</td> <td>-1532.475</td> <td>  992.439</td>\n",
       "</tr>\n",
       "<tr>\n",
       "  <th>garage_cond</th>     <td>  398.4321</td> <td>  645.806</td> <td>    0.617</td> <td> 0.537</td> <td> -868.137</td> <td> 1665.002</td>\n",
       "</tr>\n",
       "<tr>\n",
       "  <th>paved_drive</th>     <td> -787.5616</td> <td>  649.793</td> <td>   -1.212</td> <td> 0.226</td> <td>-2061.952</td> <td>  486.829</td>\n",
       "</tr>\n",
       "<tr>\n",
       "  <th>build_remodel</th>   <td>-1635.9748</td> <td>  570.480</td> <td>   -2.868</td> <td> 0.004</td> <td>-2754.814</td> <td> -517.135</td>\n",
       "</tr>\n",
       "<tr>\n",
       "  <th>lot_size_class</th>  <td>-2.075e+04</td> <td> 5340.699</td> <td>   -3.885</td> <td> 0.000</td> <td>-3.12e+04</td> <td>-1.03e+04</td>\n",
       "</tr>\n",
       "</table>\n",
       "<table class=\"simpletable\">\n",
       "<tr>\n",
       "  <th>Omnibus:</th>       <td>627.248</td> <th>  Durbin-Watson:     </th> <td>   1.985</td>\n",
       "</tr>\n",
       "<tr>\n",
       "  <th>Prob(Omnibus):</th> <td> 0.000</td>  <th>  Jarque-Bera (JB):  </th> <td>6568.097</td>\n",
       "</tr>\n",
       "<tr>\n",
       "  <th>Skew:</th>          <td> 1.215</td>  <th>  Prob(JB):          </th> <td>    0.00</td>\n",
       "</tr>\n",
       "<tr>\n",
       "  <th>Kurtosis:</th>      <td>11.698</td>  <th>  Cond. No.          </th> <td>1.39e+16</td>\n",
       "</tr>\n",
       "</table><br/><br/>Notes:<br/>[1] Standard Errors assume that the covariance matrix of the errors is correctly specified.<br/>[2] The smallest eigenvalue is 7.49e-29. This might indicate that there are<br/>strong multicollinearity problems or that the design matrix is singular."
      ],
      "text/plain": [
       "<class 'statsmodels.iolib.summary.Summary'>\n",
       "\"\"\"\n",
       "                            OLS Regression Results                            \n",
       "==============================================================================\n",
       "Dep. Variable:              saleprice   R-squared:                       0.892\n",
       "Model:                            OLS   Adj. R-squared:                  0.889\n",
       "Method:                 Least Squares   F-statistic:                     331.5\n",
       "Date:                Fri, 08 Jan 2021   Prob (F-statistic):               0.00\n",
       "Time:                        14:31:22   Log-Likelihood:                -22159.\n",
       "No. Observations:                1933   AIC:                         4.441e+04\n",
       "Df Residuals:                    1885   BIC:                         4.468e+04\n",
       "Df Model:                          47                                         \n",
       "Covariance Type:            nonrobust                                         \n",
       "===================================================================================\n",
       "                      coef    std err          t      P>|t|      [0.025      0.975]\n",
       "-----------------------------------------------------------------------------------\n",
       "const            1.766e+05    534.979    330.190      0.000    1.76e+05    1.78e+05\n",
       "overall_qual     1.501e+04   1033.167     14.524      0.000     1.3e+04     1.7e+04\n",
       "exter_qual       7612.9788    953.506      7.984      0.000    5742.941    9483.017\n",
       "gr_liv_area      1.517e+04    712.236     21.292      0.000    1.38e+04    1.66e+04\n",
       "1st_flr_sf       9154.6053    846.887     10.810      0.000    7493.671    1.08e+04\n",
       "kitchen_qual     5919.6368    873.207      6.779      0.000    4207.082    7632.192\n",
       "year_built       3765.1526    608.223      6.190      0.000    2572.292    4958.013\n",
       "garage_area      4527.3883    732.298      6.182      0.000    3091.189    5963.587\n",
       "year_remod/add   3462.0369    666.057      5.198      0.000    2155.751    4768.323\n",
       "full_bath        -198.2976    874.975     -0.227      0.821   -1914.318    1517.723\n",
       "bsmtfin_sf_1     1.233e+04   1259.068      9.793      0.000    9860.483    1.48e+04\n",
       "mas_vnr_area     3289.9428    609.406      5.399      0.000    2094.762    4485.124\n",
       "fireplaces       2183.6932    660.072      3.308      0.001     889.145    3478.242\n",
       "heating_qc       1665.4170    697.687      2.387      0.017     297.096    3033.738\n",
       "lot_area         7947.6620    750.525     10.589      0.000    6475.714    9419.610\n",
       "wood_deck_sf      785.9499    596.175      1.318      0.188    -383.282    1955.182\n",
       "open_porch_sf     660.6910    586.671      1.126      0.260    -489.901    1811.283\n",
       "bsmtfin_sf_2     2518.8672    959.352      2.626      0.009     637.364    4400.370\n",
       "bsmt_unf_sf      5457.3759   1205.387      4.527      0.000    3093.342    7821.410\n",
       "2nd_flr_sf       8590.7584    673.654     12.752      0.000    7269.572    9911.945\n",
       "lot_frontage     2663.3770    598.713      4.449      0.000    1489.168    3837.586\n",
       "overall_cond     3153.5054    701.025      4.498      0.000    1778.639    4528.372\n",
       "low_qual_fin_sf   153.6196    543.489      0.283      0.777    -912.284    1219.523\n",
       "bsmt_full_bath    747.9005    796.710      0.939      0.348    -814.627    2310.428\n",
       "bsmt_half_bath   -727.9250    581.417     -1.252      0.211   -1868.214     412.364\n",
       "half_bath        -305.5614    819.396     -0.373      0.709   -1912.580    1301.457\n",
       "bedroom_abvgr   -3694.9201    758.243     -4.873      0.000   -5182.004   -2207.836\n",
       "kitchen_abvgr   -2278.7369    621.200     -3.668      0.000   -3497.048   -1060.426\n",
       "enclosed_porch    -50.5929    595.637     -0.085      0.932   -1218.770    1117.584\n",
       "3ssn_porch        341.6012    540.610      0.632      0.528    -718.656    1401.859\n",
       "screen_porch     1463.7917    562.560      2.602      0.009     360.485    2567.098\n",
       "pool_area        -300.7403    549.978     -0.547      0.585   -1379.371     777.890\n",
       "misc_val         -434.7076    541.539     -0.803      0.422   -1496.786     627.371\n",
       "mo_sold           867.3729    543.781      1.595      0.111    -199.104    1933.849\n",
       "yr_sold          -926.0288    547.062     -1.693      0.091   -1998.940     146.882\n",
       "lot_shape           0.0945    625.119      0.000      1.000   -1225.904    1226.093\n",
       "utilities         637.9715    544.596      1.171      0.242    -430.103    1706.046\n",
       "land_slope      -1688.8247    556.683     -3.034      0.002   -2780.604    -597.045\n",
       "exter_cond       -215.9844    576.365     -0.375      0.708   -1346.364     914.395\n",
       "bsmt_qual       -9.651e-13   1.79e-13     -5.401      0.000   -1.32e-12   -6.15e-13\n",
       "bsmt_cond         284.2401    568.450      0.500      0.617    -830.618    1399.098\n",
       "bsmt_exposure    3309.1694    631.731      5.238      0.000    2070.203    4548.136\n",
       "bsmtfin_type_1   1359.1897    815.211      1.667      0.096    -239.621    2958.000\n",
       "bsmtfin_type_2   -781.1352    869.377     -0.898      0.369   -2486.178     923.907\n",
       "electrical      -1166.0996    604.824     -1.928      0.054   -2352.295      20.096\n",
       "functional       4135.9306    582.924      7.095      0.000    2992.686    5279.175\n",
       "garage_finish   -1.854e-13   5.76e-14     -3.218      0.001   -2.98e-13   -7.24e-14\n",
       "garage_qual      -270.0180    643.709     -0.419      0.675   -1532.475     992.439\n",
       "garage_cond       398.4321    645.806      0.617      0.537    -868.137    1665.002\n",
       "paved_drive      -787.5616    649.793     -1.212      0.226   -2061.952     486.829\n",
       "build_remodel   -1635.9748    570.480     -2.868      0.004   -2754.814    -517.135\n",
       "lot_size_class  -2.075e+04   5340.699     -3.885      0.000   -3.12e+04   -1.03e+04\n",
       "==============================================================================\n",
       "Omnibus:                      627.248   Durbin-Watson:                   1.985\n",
       "Prob(Omnibus):                  0.000   Jarque-Bera (JB):             6568.097\n",
       "Skew:                           1.215   Prob(JB):                         0.00\n",
       "Kurtosis:                      11.698   Cond. No.                     1.39e+16\n",
       "==============================================================================\n",
       "\n",
       "Notes:\n",
       "[1] Standard Errors assume that the covariance matrix of the errors is correctly specified.\n",
       "[2] The smallest eigenvalue is 7.49e-29. This might indicate that there are\n",
       "strong multicollinearity problems or that the design matrix is singular.\n",
       "\"\"\""
      ]
     },
     "execution_count": 42,
     "metadata": {},
     "output_type": "execute_result"
    }
   ],
   "source": [
    "#summrize via OLS\n",
    "ols = sm.OLS(y_cm, X_cm).fit()\n",
    "ols.summary()"
   ]
  },
  {
   "cell_type": "code",
   "execution_count": 43,
   "metadata": {},
   "outputs": [],
   "source": [
    "X_model = final_train_cm .drop('saleprice', axis = 1)\n",
    "y_model = final_train_cm['saleprice']"
   ]
  },
  {
   "cell_type": "code",
   "execution_count": 44,
   "metadata": {},
   "outputs": [],
   "source": [
    "#set paramaters\n",
    "ridge_params = {\n",
    "    'alpha': np.logspace(-5,5,20)\n",
    "}"
   ]
  },
  {
   "cell_type": "code",
   "execution_count": 45,
   "metadata": {},
   "outputs": [],
   "source": [
    "#define & fit ridge via GridSearchCV\n",
    "ridge_gridsearch = GridSearchCV(estimator = Ridge(),\n",
    "                                param_grid = ridge_params,\n",
    "                                verbose = 1,\n",
    "                                cv = None,\n",
    "                                n_jobs = -1)"
   ]
  },
  {
   "cell_type": "code",
   "execution_count": 46,
   "metadata": {},
   "outputs": [
    {
     "name": "stdout",
     "output_type": "stream",
     "text": [
      "Fitting 5 folds for each of 20 candidates, totalling 100 fits\n"
     ]
    },
    {
     "name": "stderr",
     "output_type": "stream",
     "text": [
      "[Parallel(n_jobs=-1)]: Using backend LokyBackend with 8 concurrent workers.\n",
      "[Parallel(n_jobs=-1)]: Done  34 tasks      | elapsed:    1.9s\n",
      "[Parallel(n_jobs=-1)]: Done 100 out of 100 | elapsed:    2.1s finished\n"
     ]
    },
    {
     "data": {
      "text/plain": [
       "GridSearchCV(estimator=Ridge(), n_jobs=-1,\n",
       "             param_grid={'alpha': array([1.00000000e-05, 3.35981829e-05, 1.12883789e-04, 3.79269019e-04,\n",
       "       1.27427499e-03, 4.28133240e-03, 1.43844989e-02, 4.83293024e-02,\n",
       "       1.62377674e-01, 5.45559478e-01, 1.83298071e+00, 6.15848211e+00,\n",
       "       2.06913808e+01, 6.95192796e+01, 2.33572147e+02, 7.84759970e+02,\n",
       "       2.63665090e+03, 8.85866790e+03, 2.97635144e+04, 1.00000000e+05])},\n",
       "             verbose=1)"
      ]
     },
     "execution_count": 46,
     "metadata": {},
     "output_type": "execute_result"
    }
   ],
   "source": [
    "ridge_gridsearch.fit(X_model, y_model)"
   ]
  },
  {
   "cell_type": "code",
   "execution_count": 47,
   "metadata": {},
   "outputs": [
    {
     "data": {
      "text/plain": [
       "{'alpha': 6.1584821106602545}"
      ]
     },
     "execution_count": 47,
     "metadata": {},
     "output_type": "execute_result"
    }
   ],
   "source": [
    "#identify best alpha\n",
    "ridge_gridsearch.best_params_"
   ]
  },
  {
   "cell_type": "code",
   "execution_count": 48,
   "metadata": {},
   "outputs": [
    {
     "data": {
      "text/plain": [
       "0.8850467469307428"
      ]
     },
     "execution_count": 48,
     "metadata": {},
     "output_type": "execute_result"
    }
   ],
   "source": [
    "#identify best score\n",
    "ridge_gridsearch.best_score_"
   ]
  },
  {
   "cell_type": "code",
   "execution_count": 49,
   "metadata": {},
   "outputs": [
    {
     "data": {
      "text/plain": [
       "Ridge(alpha=6.1584821106602545)"
      ]
     },
     "execution_count": 49,
     "metadata": {},
     "output_type": "execute_result"
    }
   ],
   "source": [
    "#identify best estimator\n",
    "ridge_gridsearch.best_estimator_"
   ]
  },
  {
   "cell_type": "code",
   "execution_count": 50,
   "metadata": {},
   "outputs": [
    {
     "data": {
      "text/plain": [
       "{'mean_fit_time': array([0.0093473 , 0.00871096, 0.0051959 , 0.00511665, 0.00485401,\n",
       "        0.00420446, 0.00523143, 0.00531363, 0.00483508, 0.00387502,\n",
       "        0.00400505, 0.00464253, 0.00552025, 0.0052135 , 0.00457644,\n",
       "        0.00474739, 0.00491123, 0.0035419 , 0.00334024, 0.00327845]),\n",
       " 'std_fit_time': array([1.39946166e-03, 6.21037694e-04, 5.01133563e-04, 5.64195035e-04,\n",
       "        4.79255466e-04, 2.35209681e-04, 9.15218160e-04, 4.36687902e-04,\n",
       "        6.53604476e-04, 5.53841381e-04, 7.77165558e-04, 8.52710005e-04,\n",
       "        6.09153574e-04, 7.14749523e-04, 7.42520543e-04, 1.23156432e-04,\n",
       "        6.78405467e-04, 2.07607824e-04, 9.40716450e-05, 9.89711563e-05]),\n",
       " 'mean_score_time': array([0.00352755, 0.00440111, 0.00352039, 0.00287414, 0.00267982,\n",
       "        0.00255775, 0.00359468, 0.00324707, 0.00263915, 0.00260038,\n",
       "        0.00242634, 0.00311928, 0.00289021, 0.00287237, 0.00274639,\n",
       "        0.00266004, 0.0025897 , 0.00202694, 0.00196147, 0.00190034]),\n",
       " 'std_score_time': array([5.85583960e-04, 1.22498316e-03, 4.22435219e-04, 5.24447588e-04,\n",
       "        2.75710981e-04, 3.05609358e-04, 5.55012693e-04, 4.84456284e-04,\n",
       "        2.57444934e-04, 3.93340206e-04, 4.20612768e-04, 4.31851736e-04,\n",
       "        4.94454856e-04, 5.92936424e-04, 6.62695742e-04, 5.91574621e-04,\n",
       "        5.68846285e-04, 1.68563359e-04, 1.64477373e-04, 9.33963938e-05]),\n",
       " 'param_alpha': masked_array(data=[1e-05, 3.359818286283781e-05, 0.00011288378916846884,\n",
       "                    0.000379269019073225, 0.0012742749857031334,\n",
       "                    0.004281332398719391, 0.01438449888287663,\n",
       "                    0.04832930238571752, 0.1623776739188721,\n",
       "                    0.5455594781168515, 1.8329807108324339,\n",
       "                    6.1584821106602545, 20.6913808111479,\n",
       "                    69.51927961775606, 233.57214690901213,\n",
       "                    784.7599703514607, 2636.6508987303555,\n",
       "                    8858.667904100832, 29763.51441631313, 100000.0],\n",
       "              mask=[False, False, False, False, False, False, False, False,\n",
       "                    False, False, False, False, False, False, False, False,\n",
       "                    False, False, False, False],\n",
       "        fill_value='?',\n",
       "             dtype=object),\n",
       " 'params': [{'alpha': 1e-05},\n",
       "  {'alpha': 3.359818286283781e-05},\n",
       "  {'alpha': 0.00011288378916846884},\n",
       "  {'alpha': 0.000379269019073225},\n",
       "  {'alpha': 0.0012742749857031334},\n",
       "  {'alpha': 0.004281332398719391},\n",
       "  {'alpha': 0.01438449888287663},\n",
       "  {'alpha': 0.04832930238571752},\n",
       "  {'alpha': 0.1623776739188721},\n",
       "  {'alpha': 0.5455594781168515},\n",
       "  {'alpha': 1.8329807108324339},\n",
       "  {'alpha': 6.1584821106602545},\n",
       "  {'alpha': 20.6913808111479},\n",
       "  {'alpha': 69.51927961775606},\n",
       "  {'alpha': 233.57214690901213},\n",
       "  {'alpha': 784.7599703514607},\n",
       "  {'alpha': 2636.6508987303555},\n",
       "  {'alpha': 8858.667904100832},\n",
       "  {'alpha': 29763.51441631313},\n",
       "  {'alpha': 100000.0}],\n",
       " 'split0_test_score': array([0.86128894, 0.86128893, 0.86128892, 0.86128889, 0.86128878,\n",
       "        0.86128841, 0.86128716, 0.86128296, 0.86126894, 0.8612227 ,\n",
       "        0.86107661, 0.86067411, 0.85986718, 0.85862313, 0.85563777,\n",
       "        0.8441578 , 0.79868052, 0.64997661, 0.37695331, 0.15143645]),\n",
       " 'split1_test_score': array([0.88778302, 0.88778302, 0.88778302, 0.88778303, 0.88778306,\n",
       "        0.88778318, 0.88778357, 0.88778487, 0.88778917, 0.88780292,\n",
       "        0.88784247, 0.88792985, 0.88806953, 0.88817119, 0.88667316,\n",
       "        0.87737788, 0.83836441, 0.69450008, 0.40898609, 0.16669518]),\n",
       " 'split2_test_score': array([0.89065247, 0.89065248, 0.89065249, 0.89065254, 0.89065272,\n",
       "        0.89065333, 0.89065535, 0.89066212, 0.89068458, 0.89075693,\n",
       "        0.89096992, 0.89146632, 0.89226165, 0.89316156, 0.89250966,\n",
       "        0.88407808, 0.84506748, 0.6991133 , 0.41141603, 0.16731516]),\n",
       " 'split3_test_score': array([0.90158791, 0.90158791, 0.9015879 , 0.90158789, 0.90158785,\n",
       "        0.90158771, 0.90158725, 0.90158568, 0.90158038, 0.90156203,\n",
       "        0.90149625, 0.90126498, 0.90063637, 0.8993136 , 0.89578403,\n",
       "        0.88433349, 0.84047196, 0.68796652, 0.40076909, 0.16255546]),\n",
       " 'split4_test_score': array([0.88377793, 0.88377793, 0.88377794, 0.88377795, 0.88377798,\n",
       "        0.8837781 , 0.88377848, 0.88377976, 0.88378398, 0.88379725,\n",
       "        0.8838334 , 0.88389847, 0.8839491 , 0.88390363, 0.88251475,\n",
       "        0.87324244, 0.82944973, 0.67543305, 0.39123782, 0.15785243]),\n",
       " 'mean_test_score': array([0.88501805, 0.88501805, 0.88501805, 0.88501806, 0.88501808,\n",
       "        0.88501814, 0.88501836, 0.88501908, 0.88502141, 0.88502836,\n",
       "        0.88504373, 0.88504675, 0.88495677, 0.88463462, 0.88262387,\n",
       "        0.87263794, 0.83040682, 0.68139791, 0.39787247, 0.16117094]),\n",
       " 'std_test_score': array([0.01325565, 0.01325565, 0.01325565, 0.01325566, 0.01325571,\n",
       "        0.01325586, 0.01325638, 0.01325809, 0.0132638 , 0.01328234,\n",
       "        0.01333811, 0.01347515, 0.01370696, 0.01398442, 0.01425186,\n",
       "        0.01484327, 0.01665557, 0.01761548, 0.01262506, 0.00593226]),\n",
       " 'rank_test_score': array([12, 11, 10,  9,  8,  7,  6,  5,  4,  3,  2,  1, 13, 14, 15, 16, 17,\n",
       "        18, 19, 20], dtype=int32)}"
      ]
     },
     "execution_count": 50,
     "metadata": {},
     "output_type": "execute_result"
    }
   ],
   "source": [
    "ridge_gridsearch.cv_results_"
   ]
  },
  {
   "cell_type": "code",
   "execution_count": 51,
   "metadata": {},
   "outputs": [
    {
     "data": {
      "text/html": [
       "<div>\n",
       "<style scoped>\n",
       "    .dataframe tbody tr th:only-of-type {\n",
       "        vertical-align: middle;\n",
       "    }\n",
       "\n",
       "    .dataframe tbody tr th {\n",
       "        vertical-align: top;\n",
       "    }\n",
       "\n",
       "    .dataframe thead th {\n",
       "        text-align: right;\n",
       "    }\n",
       "</style>\n",
       "<table border=\"1\" class=\"dataframe\">\n",
       "  <thead>\n",
       "    <tr style=\"text-align: right;\">\n",
       "      <th></th>\n",
       "      <th>mean_fit_time</th>\n",
       "      <th>std_fit_time</th>\n",
       "      <th>mean_score_time</th>\n",
       "      <th>std_score_time</th>\n",
       "      <th>param_alpha</th>\n",
       "      <th>params</th>\n",
       "      <th>split0_test_score</th>\n",
       "      <th>split1_test_score</th>\n",
       "      <th>split2_test_score</th>\n",
       "      <th>split3_test_score</th>\n",
       "      <th>split4_test_score</th>\n",
       "      <th>mean_test_score</th>\n",
       "      <th>std_test_score</th>\n",
       "      <th>rank_test_score</th>\n",
       "    </tr>\n",
       "  </thead>\n",
       "  <tbody>\n",
       "    <tr>\n",
       "      <th>0</th>\n",
       "      <td>0.009347</td>\n",
       "      <td>0.001399</td>\n",
       "      <td>0.003528</td>\n",
       "      <td>0.000586</td>\n",
       "      <td>1e-05</td>\n",
       "      <td>{'alpha': 1e-05}</td>\n",
       "      <td>0.861289</td>\n",
       "      <td>0.887783</td>\n",
       "      <td>0.890652</td>\n",
       "      <td>0.901588</td>\n",
       "      <td>0.883778</td>\n",
       "      <td>0.885018</td>\n",
       "      <td>0.013256</td>\n",
       "      <td>12</td>\n",
       "    </tr>\n",
       "    <tr>\n",
       "      <th>1</th>\n",
       "      <td>0.008711</td>\n",
       "      <td>0.000621</td>\n",
       "      <td>0.004401</td>\n",
       "      <td>0.001225</td>\n",
       "      <td>3.35982e-05</td>\n",
       "      <td>{'alpha': 3.359818286283781e-05}</td>\n",
       "      <td>0.861289</td>\n",
       "      <td>0.887783</td>\n",
       "      <td>0.890652</td>\n",
       "      <td>0.901588</td>\n",
       "      <td>0.883778</td>\n",
       "      <td>0.885018</td>\n",
       "      <td>0.013256</td>\n",
       "      <td>11</td>\n",
       "    </tr>\n",
       "    <tr>\n",
       "      <th>2</th>\n",
       "      <td>0.005196</td>\n",
       "      <td>0.000501</td>\n",
       "      <td>0.003520</td>\n",
       "      <td>0.000422</td>\n",
       "      <td>0.000112884</td>\n",
       "      <td>{'alpha': 0.00011288378916846884}</td>\n",
       "      <td>0.861289</td>\n",
       "      <td>0.887783</td>\n",
       "      <td>0.890652</td>\n",
       "      <td>0.901588</td>\n",
       "      <td>0.883778</td>\n",
       "      <td>0.885018</td>\n",
       "      <td>0.013256</td>\n",
       "      <td>10</td>\n",
       "    </tr>\n",
       "    <tr>\n",
       "      <th>3</th>\n",
       "      <td>0.005117</td>\n",
       "      <td>0.000564</td>\n",
       "      <td>0.002874</td>\n",
       "      <td>0.000524</td>\n",
       "      <td>0.000379269</td>\n",
       "      <td>{'alpha': 0.000379269019073225}</td>\n",
       "      <td>0.861289</td>\n",
       "      <td>0.887783</td>\n",
       "      <td>0.890653</td>\n",
       "      <td>0.901588</td>\n",
       "      <td>0.883778</td>\n",
       "      <td>0.885018</td>\n",
       "      <td>0.013256</td>\n",
       "      <td>9</td>\n",
       "    </tr>\n",
       "    <tr>\n",
       "      <th>4</th>\n",
       "      <td>0.004854</td>\n",
       "      <td>0.000479</td>\n",
       "      <td>0.002680</td>\n",
       "      <td>0.000276</td>\n",
       "      <td>0.00127427</td>\n",
       "      <td>{'alpha': 0.0012742749857031334}</td>\n",
       "      <td>0.861289</td>\n",
       "      <td>0.887783</td>\n",
       "      <td>0.890653</td>\n",
       "      <td>0.901588</td>\n",
       "      <td>0.883778</td>\n",
       "      <td>0.885018</td>\n",
       "      <td>0.013256</td>\n",
       "      <td>8</td>\n",
       "    </tr>\n",
       "    <tr>\n",
       "      <th>5</th>\n",
       "      <td>0.004204</td>\n",
       "      <td>0.000235</td>\n",
       "      <td>0.002558</td>\n",
       "      <td>0.000306</td>\n",
       "      <td>0.00428133</td>\n",
       "      <td>{'alpha': 0.004281332398719391}</td>\n",
       "      <td>0.861288</td>\n",
       "      <td>0.887783</td>\n",
       "      <td>0.890653</td>\n",
       "      <td>0.901588</td>\n",
       "      <td>0.883778</td>\n",
       "      <td>0.885018</td>\n",
       "      <td>0.013256</td>\n",
       "      <td>7</td>\n",
       "    </tr>\n",
       "    <tr>\n",
       "      <th>6</th>\n",
       "      <td>0.005231</td>\n",
       "      <td>0.000915</td>\n",
       "      <td>0.003595</td>\n",
       "      <td>0.000555</td>\n",
       "      <td>0.0143845</td>\n",
       "      <td>{'alpha': 0.01438449888287663}</td>\n",
       "      <td>0.861287</td>\n",
       "      <td>0.887784</td>\n",
       "      <td>0.890655</td>\n",
       "      <td>0.901587</td>\n",
       "      <td>0.883778</td>\n",
       "      <td>0.885018</td>\n",
       "      <td>0.013256</td>\n",
       "      <td>6</td>\n",
       "    </tr>\n",
       "    <tr>\n",
       "      <th>7</th>\n",
       "      <td>0.005314</td>\n",
       "      <td>0.000437</td>\n",
       "      <td>0.003247</td>\n",
       "      <td>0.000484</td>\n",
       "      <td>0.0483293</td>\n",
       "      <td>{'alpha': 0.04832930238571752}</td>\n",
       "      <td>0.861283</td>\n",
       "      <td>0.887785</td>\n",
       "      <td>0.890662</td>\n",
       "      <td>0.901586</td>\n",
       "      <td>0.883780</td>\n",
       "      <td>0.885019</td>\n",
       "      <td>0.013258</td>\n",
       "      <td>5</td>\n",
       "    </tr>\n",
       "    <tr>\n",
       "      <th>8</th>\n",
       "      <td>0.004835</td>\n",
       "      <td>0.000654</td>\n",
       "      <td>0.002639</td>\n",
       "      <td>0.000257</td>\n",
       "      <td>0.162378</td>\n",
       "      <td>{'alpha': 0.1623776739188721}</td>\n",
       "      <td>0.861269</td>\n",
       "      <td>0.887789</td>\n",
       "      <td>0.890685</td>\n",
       "      <td>0.901580</td>\n",
       "      <td>0.883784</td>\n",
       "      <td>0.885021</td>\n",
       "      <td>0.013264</td>\n",
       "      <td>4</td>\n",
       "    </tr>\n",
       "    <tr>\n",
       "      <th>9</th>\n",
       "      <td>0.003875</td>\n",
       "      <td>0.000554</td>\n",
       "      <td>0.002600</td>\n",
       "      <td>0.000393</td>\n",
       "      <td>0.545559</td>\n",
       "      <td>{'alpha': 0.5455594781168515}</td>\n",
       "      <td>0.861223</td>\n",
       "      <td>0.887803</td>\n",
       "      <td>0.890757</td>\n",
       "      <td>0.901562</td>\n",
       "      <td>0.883797</td>\n",
       "      <td>0.885028</td>\n",
       "      <td>0.013282</td>\n",
       "      <td>3</td>\n",
       "    </tr>\n",
       "    <tr>\n",
       "      <th>10</th>\n",
       "      <td>0.004005</td>\n",
       "      <td>0.000777</td>\n",
       "      <td>0.002426</td>\n",
       "      <td>0.000421</td>\n",
       "      <td>1.83298</td>\n",
       "      <td>{'alpha': 1.8329807108324339}</td>\n",
       "      <td>0.861077</td>\n",
       "      <td>0.887842</td>\n",
       "      <td>0.890970</td>\n",
       "      <td>0.901496</td>\n",
       "      <td>0.883833</td>\n",
       "      <td>0.885044</td>\n",
       "      <td>0.013338</td>\n",
       "      <td>2</td>\n",
       "    </tr>\n",
       "    <tr>\n",
       "      <th>11</th>\n",
       "      <td>0.004643</td>\n",
       "      <td>0.000853</td>\n",
       "      <td>0.003119</td>\n",
       "      <td>0.000432</td>\n",
       "      <td>6.15848</td>\n",
       "      <td>{'alpha': 6.1584821106602545}</td>\n",
       "      <td>0.860674</td>\n",
       "      <td>0.887930</td>\n",
       "      <td>0.891466</td>\n",
       "      <td>0.901265</td>\n",
       "      <td>0.883898</td>\n",
       "      <td>0.885047</td>\n",
       "      <td>0.013475</td>\n",
       "      <td>1</td>\n",
       "    </tr>\n",
       "    <tr>\n",
       "      <th>12</th>\n",
       "      <td>0.005520</td>\n",
       "      <td>0.000609</td>\n",
       "      <td>0.002890</td>\n",
       "      <td>0.000494</td>\n",
       "      <td>20.6914</td>\n",
       "      <td>{'alpha': 20.6913808111479}</td>\n",
       "      <td>0.859867</td>\n",
       "      <td>0.888070</td>\n",
       "      <td>0.892262</td>\n",
       "      <td>0.900636</td>\n",
       "      <td>0.883949</td>\n",
       "      <td>0.884957</td>\n",
       "      <td>0.013707</td>\n",
       "      <td>13</td>\n",
       "    </tr>\n",
       "    <tr>\n",
       "      <th>13</th>\n",
       "      <td>0.005213</td>\n",
       "      <td>0.000715</td>\n",
       "      <td>0.002872</td>\n",
       "      <td>0.000593</td>\n",
       "      <td>69.5193</td>\n",
       "      <td>{'alpha': 69.51927961775606}</td>\n",
       "      <td>0.858623</td>\n",
       "      <td>0.888171</td>\n",
       "      <td>0.893162</td>\n",
       "      <td>0.899314</td>\n",
       "      <td>0.883904</td>\n",
       "      <td>0.884635</td>\n",
       "      <td>0.013984</td>\n",
       "      <td>14</td>\n",
       "    </tr>\n",
       "    <tr>\n",
       "      <th>14</th>\n",
       "      <td>0.004576</td>\n",
       "      <td>0.000743</td>\n",
       "      <td>0.002746</td>\n",
       "      <td>0.000663</td>\n",
       "      <td>233.572</td>\n",
       "      <td>{'alpha': 233.57214690901213}</td>\n",
       "      <td>0.855638</td>\n",
       "      <td>0.886673</td>\n",
       "      <td>0.892510</td>\n",
       "      <td>0.895784</td>\n",
       "      <td>0.882515</td>\n",
       "      <td>0.882624</td>\n",
       "      <td>0.014252</td>\n",
       "      <td>15</td>\n",
       "    </tr>\n",
       "    <tr>\n",
       "      <th>15</th>\n",
       "      <td>0.004747</td>\n",
       "      <td>0.000123</td>\n",
       "      <td>0.002660</td>\n",
       "      <td>0.000592</td>\n",
       "      <td>784.76</td>\n",
       "      <td>{'alpha': 784.7599703514607}</td>\n",
       "      <td>0.844158</td>\n",
       "      <td>0.877378</td>\n",
       "      <td>0.884078</td>\n",
       "      <td>0.884333</td>\n",
       "      <td>0.873242</td>\n",
       "      <td>0.872638</td>\n",
       "      <td>0.014843</td>\n",
       "      <td>16</td>\n",
       "    </tr>\n",
       "    <tr>\n",
       "      <th>16</th>\n",
       "      <td>0.004911</td>\n",
       "      <td>0.000678</td>\n",
       "      <td>0.002590</td>\n",
       "      <td>0.000569</td>\n",
       "      <td>2636.65</td>\n",
       "      <td>{'alpha': 2636.6508987303555}</td>\n",
       "      <td>0.798681</td>\n",
       "      <td>0.838364</td>\n",
       "      <td>0.845067</td>\n",
       "      <td>0.840472</td>\n",
       "      <td>0.829450</td>\n",
       "      <td>0.830407</td>\n",
       "      <td>0.016656</td>\n",
       "      <td>17</td>\n",
       "    </tr>\n",
       "    <tr>\n",
       "      <th>17</th>\n",
       "      <td>0.003542</td>\n",
       "      <td>0.000208</td>\n",
       "      <td>0.002027</td>\n",
       "      <td>0.000169</td>\n",
       "      <td>8858.67</td>\n",
       "      <td>{'alpha': 8858.667904100832}</td>\n",
       "      <td>0.649977</td>\n",
       "      <td>0.694500</td>\n",
       "      <td>0.699113</td>\n",
       "      <td>0.687967</td>\n",
       "      <td>0.675433</td>\n",
       "      <td>0.681398</td>\n",
       "      <td>0.017615</td>\n",
       "      <td>18</td>\n",
       "    </tr>\n",
       "    <tr>\n",
       "      <th>18</th>\n",
       "      <td>0.003340</td>\n",
       "      <td>0.000094</td>\n",
       "      <td>0.001961</td>\n",
       "      <td>0.000164</td>\n",
       "      <td>29763.5</td>\n",
       "      <td>{'alpha': 29763.51441631313}</td>\n",
       "      <td>0.376953</td>\n",
       "      <td>0.408986</td>\n",
       "      <td>0.411416</td>\n",
       "      <td>0.400769</td>\n",
       "      <td>0.391238</td>\n",
       "      <td>0.397872</td>\n",
       "      <td>0.012625</td>\n",
       "      <td>19</td>\n",
       "    </tr>\n",
       "    <tr>\n",
       "      <th>19</th>\n",
       "      <td>0.003278</td>\n",
       "      <td>0.000099</td>\n",
       "      <td>0.001900</td>\n",
       "      <td>0.000093</td>\n",
       "      <td>100000</td>\n",
       "      <td>{'alpha': 100000.0}</td>\n",
       "      <td>0.151436</td>\n",
       "      <td>0.166695</td>\n",
       "      <td>0.167315</td>\n",
       "      <td>0.162555</td>\n",
       "      <td>0.157852</td>\n",
       "      <td>0.161171</td>\n",
       "      <td>0.005932</td>\n",
       "      <td>20</td>\n",
       "    </tr>\n",
       "  </tbody>\n",
       "</table>\n",
       "</div>"
      ],
      "text/plain": [
       "    mean_fit_time  std_fit_time  mean_score_time  std_score_time  param_alpha  \\\n",
       "0        0.009347      0.001399         0.003528        0.000586        1e-05   \n",
       "1        0.008711      0.000621         0.004401        0.001225  3.35982e-05   \n",
       "2        0.005196      0.000501         0.003520        0.000422  0.000112884   \n",
       "3        0.005117      0.000564         0.002874        0.000524  0.000379269   \n",
       "4        0.004854      0.000479         0.002680        0.000276   0.00127427   \n",
       "5        0.004204      0.000235         0.002558        0.000306   0.00428133   \n",
       "6        0.005231      0.000915         0.003595        0.000555    0.0143845   \n",
       "7        0.005314      0.000437         0.003247        0.000484    0.0483293   \n",
       "8        0.004835      0.000654         0.002639        0.000257     0.162378   \n",
       "9        0.003875      0.000554         0.002600        0.000393     0.545559   \n",
       "10       0.004005      0.000777         0.002426        0.000421      1.83298   \n",
       "11       0.004643      0.000853         0.003119        0.000432      6.15848   \n",
       "12       0.005520      0.000609         0.002890        0.000494      20.6914   \n",
       "13       0.005213      0.000715         0.002872        0.000593      69.5193   \n",
       "14       0.004576      0.000743         0.002746        0.000663      233.572   \n",
       "15       0.004747      0.000123         0.002660        0.000592       784.76   \n",
       "16       0.004911      0.000678         0.002590        0.000569      2636.65   \n",
       "17       0.003542      0.000208         0.002027        0.000169      8858.67   \n",
       "18       0.003340      0.000094         0.001961        0.000164      29763.5   \n",
       "19       0.003278      0.000099         0.001900        0.000093       100000   \n",
       "\n",
       "                               params  split0_test_score  split1_test_score  \\\n",
       "0                    {'alpha': 1e-05}           0.861289           0.887783   \n",
       "1    {'alpha': 3.359818286283781e-05}           0.861289           0.887783   \n",
       "2   {'alpha': 0.00011288378916846884}           0.861289           0.887783   \n",
       "3     {'alpha': 0.000379269019073225}           0.861289           0.887783   \n",
       "4    {'alpha': 0.0012742749857031334}           0.861289           0.887783   \n",
       "5     {'alpha': 0.004281332398719391}           0.861288           0.887783   \n",
       "6      {'alpha': 0.01438449888287663}           0.861287           0.887784   \n",
       "7      {'alpha': 0.04832930238571752}           0.861283           0.887785   \n",
       "8       {'alpha': 0.1623776739188721}           0.861269           0.887789   \n",
       "9       {'alpha': 0.5455594781168515}           0.861223           0.887803   \n",
       "10      {'alpha': 1.8329807108324339}           0.861077           0.887842   \n",
       "11      {'alpha': 6.1584821106602545}           0.860674           0.887930   \n",
       "12        {'alpha': 20.6913808111479}           0.859867           0.888070   \n",
       "13       {'alpha': 69.51927961775606}           0.858623           0.888171   \n",
       "14      {'alpha': 233.57214690901213}           0.855638           0.886673   \n",
       "15       {'alpha': 784.7599703514607}           0.844158           0.877378   \n",
       "16      {'alpha': 2636.6508987303555}           0.798681           0.838364   \n",
       "17       {'alpha': 8858.667904100832}           0.649977           0.694500   \n",
       "18       {'alpha': 29763.51441631313}           0.376953           0.408986   \n",
       "19                {'alpha': 100000.0}           0.151436           0.166695   \n",
       "\n",
       "    split2_test_score  split3_test_score  split4_test_score  mean_test_score  \\\n",
       "0            0.890652           0.901588           0.883778         0.885018   \n",
       "1            0.890652           0.901588           0.883778         0.885018   \n",
       "2            0.890652           0.901588           0.883778         0.885018   \n",
       "3            0.890653           0.901588           0.883778         0.885018   \n",
       "4            0.890653           0.901588           0.883778         0.885018   \n",
       "5            0.890653           0.901588           0.883778         0.885018   \n",
       "6            0.890655           0.901587           0.883778         0.885018   \n",
       "7            0.890662           0.901586           0.883780         0.885019   \n",
       "8            0.890685           0.901580           0.883784         0.885021   \n",
       "9            0.890757           0.901562           0.883797         0.885028   \n",
       "10           0.890970           0.901496           0.883833         0.885044   \n",
       "11           0.891466           0.901265           0.883898         0.885047   \n",
       "12           0.892262           0.900636           0.883949         0.884957   \n",
       "13           0.893162           0.899314           0.883904         0.884635   \n",
       "14           0.892510           0.895784           0.882515         0.882624   \n",
       "15           0.884078           0.884333           0.873242         0.872638   \n",
       "16           0.845067           0.840472           0.829450         0.830407   \n",
       "17           0.699113           0.687967           0.675433         0.681398   \n",
       "18           0.411416           0.400769           0.391238         0.397872   \n",
       "19           0.167315           0.162555           0.157852         0.161171   \n",
       "\n",
       "    std_test_score  rank_test_score  \n",
       "0         0.013256               12  \n",
       "1         0.013256               11  \n",
       "2         0.013256               10  \n",
       "3         0.013256                9  \n",
       "4         0.013256                8  \n",
       "5         0.013256                7  \n",
       "6         0.013256                6  \n",
       "7         0.013258                5  \n",
       "8         0.013264                4  \n",
       "9         0.013282                3  \n",
       "10        0.013338                2  \n",
       "11        0.013475                1  \n",
       "12        0.013707               13  \n",
       "13        0.013984               14  \n",
       "14        0.014252               15  \n",
       "15        0.014843               16  \n",
       "16        0.016656               17  \n",
       "17        0.017615               18  \n",
       "18        0.012625               19  \n",
       "19        0.005932               20  "
      ]
     },
     "execution_count": 51,
     "metadata": {},
     "output_type": "execute_result"
    }
   ],
   "source": [
    "pd.DataFrame(ridge_gridsearch.cv_results_)"
   ]
  },
  {
   "cell_type": "code",
   "execution_count": 52,
   "metadata": {},
   "outputs": [
    {
     "data": {
      "text/plain": [
       "<AxesSubplot:>"
      ]
     },
     "execution_count": 52,
     "metadata": {},
     "output_type": "execute_result"
    },
    {
     "data": {
      "image/png": "[encoded data removed]",
      "text/plain": [
       "<Figure size 1440x720 with 1 Axes>"
      ]
     },
     "metadata": {
      "needs_background": "light"
     },
     "output_type": "display_data"
    }
   ],
   "source": [
    "pd.DataFrame(ridge_gridsearch.cv_results_)['mean_test_score'].plot(figsize = (20, 10), kind = 'bar')"
   ]
  }
 ],
 "metadata": {
  "kernelspec": {
   "display_name": "Python 3",
   "language": "python",
   "name": "python3"
  },
  "language_info": {
   "codemirror_mode": {
    "name": "ipython",
    "version": 3
   },
   "file_extension": ".py",
   "mimetype": "text/x-python",
   "name": "python",
   "nbconvert_exporter": "python",
   "pygments_lexer": "ipython3",
   "version": "3.8.2"
  }
 },
 "nbformat": 4,
 "nbformat_minor": 4
}
